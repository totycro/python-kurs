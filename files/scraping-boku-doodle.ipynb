{
 "cells": [
  {
   "cell_type": "code",
   "execution_count": 1,
   "metadata": {},
   "outputs": [],
   "source": [
    "import requests"
   ]
  },
  {
   "cell_type": "code",
   "execution_count": 2,
   "metadata": {},
   "outputs": [],
   "source": [
    "response = requests.get(\"https://online.boku.ac.at/BOKUonline/StudierendenStatistik.html\")"
   ]
  },
  {
   "cell_type": "code",
   "execution_count": 3,
   "metadata": {},
   "outputs": [
    {
     "data": {
      "text/plain": [
       "200"
      ]
     },
     "execution_count": 3,
     "metadata": {},
     "output_type": "execute_result"
    }
   ],
   "source": [
    "response.status_code"
   ]
  },
  {
   "cell_type": "code",
   "execution_count": 4,
   "metadata": {},
   "outputs": [],
   "source": [
    "response.raise_for_status()"
   ]
  },
  {
   "cell_type": "code",
   "execution_count": 5,
   "metadata": {},
   "outputs": [
    {
     "data": {
      "text/plain": [
       "b'<!DOCTYPE HTML PUBLIC \"-//W3C//DTD HTML 4.01 Transitional//EN\" \"http://www.w3.org/TR/html4/loose.dtd\">\\n<!-- PAGEID:7009470 KurzBez:7050610 -->\\n<HTML lang=\"de\" id=\"id-page-7050610\" class=\"fwk-pu app-studstat\">\\n<head>\\n<meta http-equiv=\"Content-Type\" name=\"\" content=\"text/html; charset=UTF-8\"><meta http-equiv=\"pragma\" name=\"\" content=\"no-cache\"><meta http-equiv=\"\" name=\"Author\" content=\"University of Natural Resources and Life Sciences, Vienna\">\\n\\n<title>Studierendenstatistik - BOKUonline - Universit\\xc3\\xa4t f\\xc3\\xbcr Bodenkultur Wien</title>\\n<link rel=\"shortcut icon\" href=\"/bokuprod/img/favicon.ico?20090224151815\">\\n<link rel=\"stylesheet\" type=\"text/css\" href=\"/bokuprod/css/css_sys_w_m.css?20160515193021\">\\n<link rel=\"stylesheet\" type=\"text/css\" href=\"/bokuprod/css/css_loc_w_m.css?20170613233425\">\\n<STYLE type=\"text/css\">\\n  A { text-decoration:underline;} \\n  BODY { font-size:14px;background-image:url(/bokuprod/img/background_production_bokuprod.png?20150721225650);} \\n</STYLE>\\n<script type=\"text/javascript\">\\n <!-- \\n var GLOBALimgPath = \"/bokuprod/img/\";\\n var GLOBALSize = \"M\";\\n var GLOBALSizeMult = 14;\\n var GLOBALMaskFocus;\\n var GLOBALhomeUrl = \"online.boku.ac.at\";\\n var GLOBALhomeIndicator = \"<img src=\\'/bokuprod/img/co_logo_m_bokuprod.png?20150721230507\\' BORDER=0 />\";\\nvar GLOBALLOVSucheArr = new Array();\\n//-->\\n</script>\\n<script src=\"/bokuprod/js/1484.jsa?20140429194354\" type=\"text/javascript\" charset=\"WINDOWS-1252\"></script>\\n<script src=\"/bokuprod/js/1483.jsa?20071031142112\" type=\"text/javascript\" charset=\"WINDOWS-1252\"></script>\\n<script src=\"/bokuprod/js/globallibrary.jsa?20161122204141\" type=\"text/javascript\" charset=\"WINDOWS-1252\"></script>\\n<script src=\"/bokuprod/js/globalwinmanagement.jsa?20170704230740\" type=\"text/javascript\" charset=\"WINDOWS-1252\"></script>\\n<script src=\"/bokuprod/js/cbe_event.jsa?20071031142106\" type=\"text/javascript\" charset=\"WINDOWS-1252\"></script>\\n</head>\\n<body onload=\"if ( parent && window && parent != window ) { var vTitle =\\' \\'; if( parent && parent.detail && parent.detail.document.title ) { vTitle = vTitle.concat(parent.detail.document.title.replace(/[\\\\n\\\\r\\\\x22\\\\\\']|^\\\\s*/g, \\'\\')); parent.document.title = vTitle; } else { if( parent && parent.frames[0] && parent.frames[0].document.title ) {vTitle = vTitle.concat(parent.frames[0].document.title.replace(/[\\\\n\\\\r\\\\x22\\\\\\']|^\\\\s*/g, \\'\\')); parent.document.title = vTitle; } } }cbeInitialize(); if (typeof(GLOBALMaskFocus)!= \\'undefined\\' && GLOBALMaskFocus!=\\'\\') { eval(GLOBALMaskFocus + \\'.focus();\\');};\" >\\n<div id=\"pageContent\">\\n<div class=\"coTooltip\" id=\"GLOBALcoTooltip\"></div>\\n<table  align=\"center\" width=\"100%\" id=\"idTopPageHeader\" class=\"bodyTable\" cellspacing=\"0\" cellpadding=\"0\">\\n<tr valign=\"middle\" class=\"middle coHeaderTopRow\">\\n<td nowrap=\"nowrap\" class=\"pageOwner\"><a href=\"wborg.display?pOrgNr=1\" class=\"s\">Universit\\xc3\\xa4t f\\xc3\\xbcr Bodenkultur Wien</a></td>\\n<td class=\"wr100\" width=\"100%\" >&nbsp;</td>\\n<td>&nbsp;</td>\\n<td></td>\\n<TD>\\n<script src=\"/bokuprod/js/wosinddieframes.jsa?20110412184546\" type=\"text/javascript\" charset=\"WINDOWS-1252\"></script>\\n</TD>\\n</tr>\\n</table>\\n<table  align=\"center\"  width=\"100%\" id=\"idPageHeader\" class=\"pageObjectNoTopBorder\" cellspacing=\"0\" cellpadding=\"0\">\\n<tr align=\"left\" valign=\"top\">\\n<TD  valign=\"middle\" style=\"padding:10px;width:100%;\" >\\n<table   width=\"100%\" >\\n<tr valign=\"top\">\\n<td  WIDTH=\"100%\"><h1 class=\"headerHeading noMargin\">Studierendenstatistik</h1></td>\\n</tr>\\n<tr valign=\"top\" style=\"vertical-align:middle\">\\n<td  WIDTH=\"100%\"  ><h2 class=\"m normalWeight headerObject noMargin\" id=\"idCaSubTitle\">Statistiken \\xc3\\xbcber Studierende, Studien und Studienabschl\\xc3\\xbcsse</h2></td>\\n</tr>\\n</table>\\n</TD>\\n<TD ALIGN=\"right\">\\n<table  id=\"idPageNavi\" class=\"nav puNav caPuFwk\"  summary=\"Men\\xc3\\xbc\">\\n<tr>\\n<th nowrap=\"nowrap\" class=\"nav caNav ca-key-id ca-id-nav-studienjahr\">Studienjahr&nbsp;</th>\\n<TD NOWRAP class=\"nav\" >\\n<SPAN style=\"visibility:visible;\" ID=\"AS0\">\\n<a href=\"javascript:lefti(\\'S0\\');\" class=\"nav caNav caSliderLefti\"><img src=\"/bokuprod/img/arrprev.gif?20080107131404\" alt=\"zur&uuml;ck\" hspace=\"2\" border=0 /></a>\\n</SPAN><SPAN ID=\"BS0\">\\n<a href=\"Studierendenstatistik.html?pAuswertung=1&pSJ=1801&pSemester=S&pGruppierung=1&pVerteilungsschluessel=TRUE\" class=\"nav caNav caSliderEntry\" >2017/18</a>\\n<a href=\"Studierendenstatistik.html?pAuswertung=1&pSJ=1820&pSemester=S&pGruppierung=1&pVerteilungsschluessel=TRUE\" class=\"nav caNav caSliderEntry\" >2018/19</a>\\n<a href=\"Studierendenstatistik.html?pAuswertung=1&pSJ=1840&pSemester=S&pGruppierung=1&pVerteilungsschluessel=TRUE\" class=\"nav caNav caSliderEntry\" >2019/20</a>\\n<span class=\"navSelected caNav caSliderEntry\">2020/21</span>\\n</SPAN><SPAN style=\"visibility:hidden;\" ID=\"CS0\">\\n<a href=\"javascript:righti(\\'S0\\');\" class=\"nav caNav caSliderRighti\"><img src=\"/bokuprod/img/arrnext.gif?20080107131402\" alt=\"weiter\" hspace=\"2\" border=0 /></a>\\n</SPAN>\\n</TD>\\n</tr>\\n<tr>\\n<th nowrap=\"nowrap\" class=\"nav caNav ca-key-id ca-id-semester\">Semester&nbsp;</th>\\n<TD NOWRAP class=\"nav\" >\\n<a href=\"Studierendenstatistik.html?pAuswertung=1&pSJ=1860&pSemester=W&pGruppierung=1&pVerteilungsschluessel=TRUE\" class=\"nav caNav ca-key-id ca-id-winter\" >Winter</a>\\n<span class=\"navSelected caNav ca-key-id ca-id-sommer\">Sommer</span>\\n</TD>\\n</tr>\\n<tr>\\n<th nowrap=\"nowrap\" class=\"nav caNav ca-key-id ca-id-personenz\\xc3\\xa4hlung\">Personenz\\xc3\\xa4hlung&nbsp;</th>\\n<TD NOWRAP class=\"nav\" >\\n<span class=\"navSelected caNav ca-key-id ca-id-studierende\"><span id=\"TTId10860623752\" onMouseOver=\"tt(this.id, \\'Personen mit gemeldeten, offenen Studien (PU)\\', false );\">Studierende</span></span>\\n<a href=\"Studierendenstatistik.html?pAuswertung=2&pSJ=1860&pSemester=S&pGruppierung=1&pVerteilungsschluessel=TRUE\" class=\"nav caNav ca-key-id ca-id-neuzugelassene studierende\" title=\"Erstmals zugelassene Personen mit gemeldeten, offenen Studien (PN)\" >Neuzugelassene Studierende</a>\\n</TD>\\n</tr>\\n<tr>\\n<th nowrap=\"nowrap\" class=\"nav\">&nbsp;</th>\\n<TD NOWRAP class=\"nav\" >\\n<a href=\"Studierendenstatistik.html?pAuswertung=3&pSJ=1860&pSemester=S&pGruppierung=1&pVerteilungsschluessel=TRUE\" class=\"nav caNav ca-key-id ca-id-neuzugelassene ordentliche studierende\" title=\"Erstmals zu ordentlichen Studien zugelassene Personen mit gemeldeten, offenen Studien (PO)\" >Neuzugelassene ordentliche Studierende</a>\\n</TD>\\n</tr>\\n<tr>\\n<th nowrap=\"nowrap\" class=\"nav\">&nbsp;</th>\\n<TD NOWRAP class=\"nav\" >\\n<a href=\"Studierendenstatistik.html?pAuswertung=4&pSJ=1860&pSemester=S&pGruppierung=1&pVerteilungsschluessel=TRUE\" class=\"nav caNav ca-key-id ca-id-studierende im 1. semester\" title=\"Personen im ersten Semester mit gemeldeten, offenen Studien (PI)\" >Studierende im 1. Semester</a>\\n<a href=\"Studierendenstatistik.html?pAuswertung=5&pSJ=1860&pSemester=S&pGruppierung=1&pVerteilungsschluessel=TRUE\" class=\"nav caNav ca-key-id ca-id-erstzugelassene\" title=\"Erstmals zu Studien in \\xc3\\x96sterreich zugelassene Personen mit gemeldeten, offenen Studien (PE)\" >Erstzugelassene</a>\\n<a href=\"Studierendenstatistik.html?pAuswertung=6&pSJ=1860&pSemester=S&pGruppierung=1&pVerteilungsschluessel=TRUE\" class=\"nav caNav ca-key-id ca-id-mitbeleger/innen\" title=\"Personen, die zu Studien gemeldet sind, die an anderen Universit\\xc3\\xa4ten/Hochschulen zugelassen sind (PM)\" >Mitbeleger/innen</a>\\n</TD>\\n</tr>\\n<tr>\\n<th nowrap=\"nowrap\" class=\"nav\">&nbsp;</th>\\n<TD NOWRAP class=\"nav\" >\\n<a href=\"Studierendenstatistik.html?pAuswertung=7&pSJ=1860&pSemester=S&pGruppierung=1&pVerteilungsschluessel=TRUE\" class=\"nav caNav ca-key-id ca-id-herkunft der studierenden\" title=\"Nationalit\\xc3\\xa4ten gemeldeter, beurlaubter, ordentlicher und au\\xc3\\x9ferordentlicher Studierender (HE)\" >Herkunft der Studierenden</a>\\n</TD>\\n</tr>\\n<tr>\\n<th nowrap=\"nowrap\" class=\"nav caNav ca-key-id ca-id-studienz\\xc3\\xa4hlung\">Studienz\\xc3\\xa4hlung&nbsp;</th>\\n<TD NOWRAP class=\"nav\" >\\n<a href=\"Studierendenstatistik.html?pAuswertung=8&pSJ=1860&pSemester=S&pGruppierung=1&pVerteilungsschluessel=TRUE\" class=\"nav caNav ca-key-id ca-id-belegte studien\" title=\"Studien, zu denen Zulassung oder Fortsetzungsmeldung erfolgte (SB)\" >belegte Studien</a>\\n<a href=\"Studierendenstatistik.html?pAuswertung=9&pSJ=1860&pSemester=S&pGruppierung=1&pVerteilungsschluessel=TRUE\" class=\"nav caNav ca-key-id ca-id-belegte studien im 1. semester\" title=\"Studien, zu denen die erstmalige Zulassung erfolgte (ohne Vorstudien) (SN)\" >belegte Studien im 1. Semester</a>\\n</TD>\\n</tr>\\n<tr>\\n<th nowrap=\"nowrap\" class=\"nav\">&nbsp;</th>\\n<TD NOWRAP class=\"nav\" >\\n<a href=\"Studierendenstatistik.html?pAuswertung=10&pSJ=1860&pSemester=S&pGruppierung=1&pVerteilungsschluessel=TRUE\" class=\"nav caNav ca-key-id ca-id-belegte studien der erstzugelassenen\" title=\"Studien von Studierenden, die erstmals in \\xc3\\x96sterreich zu einem Studium zugelassen wurden (SE)\" >belegte Studien der Erstzugelassenen</a>\\n<a href=\"Studierendenstatistik.html?pAuswertung=11&pSJ=1860&pSemester=S&pGruppierung=2&pVerteilungsschluessel=TRUE\" class=\"nav caNav ca-key-id ca-id-mitbelegte studien\" title=\"Studien, zu denen eine Fortsetzungsmeldung mit Zulassung an einer anderen Universit\\xc3\\xa4t/Hochschule erfolgte (SM)\" >mitbelegte Studien</a>\\n</TD>\\n</tr>\\n<tr>\\n<th nowrap=\"nowrap\" class=\"nav caNav ca-key-id ca-id-abschl\\xc3\\xbcsse\">Abschl\\xc3\\xbcsse&nbsp;</th>\\n<TD NOWRAP class=\"nav\" >\\n<a href=\"Studierendenstatistik.html?pAuswertung=13&pSJ=1860&pSemester=S&pGruppierung=1&pVerteilungsschluessel=TRUE\" class=\"nav caNav ca-key-id ca-id-abgeschlossene studien\" title=\"Abgeschlossene ordentliche oder au\\xc3\\x9ferordentliche Studien (SA)\" >abgeschlossene Studien</a>\\n</TD>\\n</tr>\\n<tr>\\n<th nowrap=\"nowrap\" class=\"nav caNav ca-key-id ca-id-aktion\">Aktion&nbsp;</th>\\n<TD NOWRAP class=\"nav\" >\\n<a href=\"Studierendenstatistik.xls?pAuswertung=1&pSJ=1860&pSemester=S&pGruppierung=1&pVerteilungsschluessel=TRUE\" class=\"nav caNav ca-key-id ca-id-export\" title=\"Export im CSV-Format\" >Export</a>\\n<script type=\"text/javascript\">\\n<!-- // SliderCode\\nvar slider = new Array(\"S1\");\\nvar maxanz = new Array(\"S1\");\\nvar start = new Array(\"S1\");\\nslider[\"S0\"] = new Array(14);\\nslider[\"S0\"][0] = new Array(2);\\nslider[\"S0\"][0][0] = \"2007/08\";\\nslider[\"S0\"][0][1] = \"Studierendenstatistik.html?pAuswertung=1&pSJ=1565&pSemester=S&pGruppierung=1&pVerteilungsschluessel=TRUE\";\\nslider[\"S0\"][0][2] = \"\";\\nslider[\"S0\"][1] = new Array(2);\\nslider[\"S0\"][1][0] = \"2008/09\";\\nslider[\"S0\"][1][1] = \"Studierendenstatistik.html?pAuswertung=1&pSJ=1567&pSemester=S&pGruppierung=1&pVerteilungsschluessel=TRUE\";\\nslider[\"S0\"][1][2] = \"\";\\nslider[\"S0\"][2] = new Array(2);\\nslider[\"S0\"][2][0] = \"2009/10\";\\nslider[\"S0\"][2][1] = \"Studierendenstatistik.html?pAuswertung=1&pSJ=1569&pSemester=S&pGruppierung=1&pVerteilungsschluessel=TRUE\";\\nslider[\"S0\"][2][2] = \"\";\\nslider[\"S0\"][3] = new Array(2);\\nslider[\"S0\"][3][0] = \"2010/11\";\\nslider[\"S0\"][3][1] = \"Studierendenstatistik.html?pAuswertung=1&pSJ=1701&pSemester=S&pGruppierung=1&pVerteilungsschluessel=TRUE\";\\nslider[\"S0\"][3][2] = \"\";\\nslider[\"S0\"][4] = new Array(2);\\nslider[\"S0\"][4][0] = \"2011/12\";\\nslider[\"S0\"][4][1] = \"Studierendenstatistik.html?pAuswertung=1&pSJ=1703&pSemester=S&pGruppierung=1&pVerteilungsschluessel=TRUE\";\\nslider[\"S0\"][4][2] = \"\";\\nslider[\"S0\"][5] = new Array(2);\\nslider[\"S0\"][5][0] = \"2012/13\";\\nslider[\"S0\"][5][1] = \"Studierendenstatistik.html?pAuswertung=1&pSJ=1705&pSemester=S&pGruppierung=1&pVerteilungsschluessel=TRUE\";\\nslider[\"S0\"][5][2] = \"\";\\nslider[\"S0\"][6] = new Array(2);\\nslider[\"S0\"][6][0] = \"2013/14\";\\nslider[\"S0\"][6][1] = \"Studierendenstatistik.html?pAuswertung=1&pSJ=1721&pSemester=S&pGruppierung=1&pVerteilungsschluessel=TRUE\";\\nslider[\"S0\"][6][2] = \"\";\\nslider[\"S0\"][7] = new Array(2);\\nslider[\"S0\"][7][0] = \"2014/15\";\\nslider[\"S0\"][7][1] = \"Studierendenstatistik.html?pAuswertung=1&pSJ=1741&pSemester=S&pGruppierung=1&pVerteilungsschluessel=TRUE\";\\nslider[\"S0\"][7][2] = \"\";\\nslider[\"S0\"][8] = new Array(2);\\nslider[\"S0\"][8][0] = \"2015/16\";\\nslider[\"S0\"][8][1] = \"Studierendenstatistik.html?pAuswertung=1&pSJ=1761&pSemester=S&pGruppierung=1&pVerteilungsschluessel=TRUE\";\\nslider[\"S0\"][8][2] = \"\";\\nslider[\"S0\"][9] = new Array(2);\\nslider[\"S0\"][9][0] = \"2016/17\";\\nslider[\"S0\"][9][1] = \"Studierendenstatistik.html?pAuswertung=1&pSJ=1780&pSemester=S&pGruppierung=1&pVerteilungsschluessel=TRUE\";\\nslider[\"S0\"][9][2] = \"\";\\nslider[\"S0\"][10] = new Array(2);\\nslider[\"S0\"][10][0] = \"2017/18\";\\nslider[\"S0\"][10][1] = \"Studierendenstatistik.html?pAuswertung=1&pSJ=1801&pSemester=S&pGruppierung=1&pVerteilungsschluessel=TRUE\";\\nslider[\"S0\"][10][2] = \"\";\\nslider[\"S0\"][11] = new Array(2);\\nslider[\"S0\"][11][0] = \"2018/19\";\\nslider[\"S0\"][11][1] = \"Studierendenstatistik.html?pAuswertung=1&pSJ=1820&pSemester=S&pGruppierung=1&pVerteilungsschluessel=TRUE\";\\nslider[\"S0\"][11][2] = \"\";\\nslider[\"S0\"][12] = new Array(2);\\nslider[\"S0\"][12][0] = \"2019/20\";\\nslider[\"S0\"][12][1] = \"Studierendenstatistik.html?pAuswertung=1&pSJ=1840&pSemester=S&pGruppierung=1&pVerteilungsschluessel=TRUE\";\\nslider[\"S0\"][12][2] = \"\";\\nslider[\"S0\"][13] = new Array(2);\\nslider[\"S0\"][13][0] = \"2020/21\";\\nslider[\"S0\"][13][1] = \"\";\\nslider[\"S0\"][13][2] = \"\";\\n\\nmaxanz[\"S0\"] = 4;\\nstart[\"S0\"] = 10;\\n// -->\\n</SCRIPT>\\n</TD>\\n</tr>\\n</table>\\n</TD>\\n</tr>\\n</table>\\n<table   class=\"list\" >\\n<tr>\\n<th colspan=\"7\" class=\"tblHdr\">Stand vom 04.06.2021</th>\\n</tr>\\n<tr>\\n<th class=\"tblHdr\">Studierendenstatus</th>\\n<th class=\"tblHdr\">Studienstatus</th>\\n<th class=\"tblHdr\">Inland Frauen</th>\\n<th class=\"tblHdr\">Inland M\\xc3\\xa4nner</th>\\n<th class=\"tblHdr\">Ausland Frauen</th>\\n<th class=\"tblHdr\">Ausland M\\xc3\\xa4nner</th>\\n<th class=\"tblHdr\">gesamt</th>\\n</tr>\\n<tr  class=\"z0\">\\n<td align=\"left\">Ordentlich</td>\\n<td align=\"left\">gemeldet</td>\\n<td align=\"right\">3851</td>\\n<td align=\"right\">3683</td>\\n<td align=\"right\">1251</td>\\n<td align=\"right\">1053</td>\\n<td align=\"right\">9838</td>\\n</tr>\\n<tr  class=\"z1\">\\n<td align=\"left\">Ordentlich</td>\\n<td align=\"left\">beurlaubt</td>\\n<td align=\"right\">46</td>\\n<td align=\"right\">39</td>\\n<td align=\"right\">15</td>\\n<td align=\"right\">4</td>\\n<td align=\"right\">104</td>\\n</tr>\\n<tr  class=\"z0\">\\n<td align=\"left\">Au\\xc3\\x9ferordentlich</td>\\n<td align=\"left\">gemeldet</td>\\n<td align=\"right\">123</td>\\n<td align=\"right\">86</td>\\n<td align=\"right\">49</td>\\n<td align=\"right\">42</td>\\n<td align=\"right\">300</td>\\n</tr>\\n<tr  class=\"z1\">\\n<td align=\"left\">Au\\xc3\\x9ferordentlich</td>\\n<td align=\"left\">beurlaubt</td>\\n<td align=\"right\">0</td>\\n<td align=\"right\">0</td>\\n<td align=\"right\">2</td>\\n<td align=\"right\">0</td>\\n<td align=\"right\">2</td>\\n</tr>\\n<tr  class=\"z0\">\\n<td align=\"left\">Ordentlich&nbsp;(amtswegige&nbsp;Mitbelegung)</td>\\n<td align=\"left\">gemeldet</td>\\n<td align=\"right\">89</td>\\n<td align=\"right\">1</td>\\n<td align=\"right\">32</td>\\n<td align=\"right\">2</td>\\n<td align=\"right\">124</td>\\n</tr>\\n<tr>\\n<th colspan=\"2\" class=\"tblSumGroupR\"><b>gesamt:</b></th>\\n<th colspan=\"1\" class=\"tblSumGroup\"><b>4109</b></th>\\n<th colspan=\"1\" class=\"tblSumGroup\"><b>3809</b></th>\\n<th colspan=\"1\" class=\"tblSumGroup\"><b>1349</b></th>\\n<th colspan=\"1\" class=\"tblSumGroup\"><b>1101</b></th>\\n<th colspan=\"1\" class=\"tblSumGroup\"><b>10368</b></th>\\n</tr>\\n<tr class=\"tblHdr\">\\n<th colspan=\"7\" class=\"tblHdr\">&nbsp;</th>\\n</tr>\\n</table>\\n<br />\\n<table  id=\"idPageFooter\" class=\"nomargins pageFooter\" width=\"100%\" cellpadding=\"0\" cellspacing=\"0\">\\n<tr class=\"z1\"><td class=\"footerCell\"><span class=\"footer\">\\xc2\\xa92021 Universit\\xc3\\xa4t f\\xc3\\xbcr Bodenkultur Wien. Alle Rechte vorbehalten. </span><span class=\"footer\"> | BOKUonline powered by <a href=\"https://campusonline.tugraz.at\" name=\"courl\" onclick=\"window.open(this.href); return(false);\">CAMPUSonline</a>&reg; | <A href=\"http://www.boku.ac.at/impressum.html\" TARGET=\"impressum\" ONCLICK=\"GLOBALwindow(this.href,this.target,\\'YES\\',0);return false;\" class=\"footer\">Impressum</A> | <A href=\"mailto:support.bokuonline%40boku.ac.at\" target=\"emailWin\" onclick=\"GLOBALEmailWindow(\\'\\', \\'\\', \\'support.bokuonline(at)boku.ac.at\\'.replace(\\'(at)\\',\\'@\\'), \\'BOKUonline\\', \\'Anregungen Wuensche Beschwerden\\', \\'\\', \\'\\', \\'\\', \\'OWN\\');return false;\" title=\"Feedback BOKUonline\" onMouseover=\"this.title= \\'Nachricht senden an \\' +\\'support.bokuonline(at)boku.ac.at\\'     \"  class=\"footer\">Feedback</A> | <A href=\"http://short.boku.ac.at/teach-and-learn\" TARGET=\"localdocumentation\" ONCLICK=\"GLOBALwindow(this.href,this.target,\\'YES\\',0);return false;\" class=\"footer\">Dokumentation</A></span></td></tr>\\n</table>\\n<div class=\"invisible\" id=\"idWindowTemplate\">\\n<div class=\"overlayWindowContent\" id=\"idOverlayWindowContent\">\\n</div>\\n<div class=\"overlayWindowHeader\">\\n<div>\\n<span class=\"overlayWindowTools\"><a href=\"#\" class=\" nounderline\" id=\"idOverlayClose\" onclick=\"try{CO.Window.close(this);return(false);}catch(e){return($E(e));}\"><img alt=\"\" height=\"24\" src=\"/bokuprod/img/msg_close.png?20120828233057\" width=\"24\"></a></span><h1 class=\"overlayWindowTitle\" id=\"idOverlayWindowTitle\">\\nLoading ...\\n</h1>\\n</div>\\n</div>\\n</div>\\n</div>\\n<script src=\"/bokuprod/js/prototype_1_7.js?20131203211538\" type=\"text/javascript\"></script>\\n<script src=\"/bokuprod/js/cojs.jsa?20180328204610\" type=\"text/javascript\"></script>\\n<script type=\"text/javascript\">\\nif(typeof(CO) === \\'undefined\\') { var CO = Class.create(); } CO.IMGPATH = \\'https://online.boku.ac.at/bokuprod/img/\\';\\n</script>\\n<!--[if lte IE 7]>\\n<script type=\"text/javascript\" language=\"Javascript1.3\">\\nPrototype.Browser.IE6 = true; Prototype.Browser.IE7 = false;\\n</script>\\n<![endif]-->\\n<!--[if IE 7]>\\n<script type=\"text/javascript\" language=\"Javascript1.3\">\\nPrototype.Browser.IE6 = false; Prototype.Browser.IE7 = true;\\n</script>\\n<![endif]-->\\n<!--[if IE 8]>\\n<script type=\"text/javascript\" language=\"Javascript1.3\">\\nPrototype.Browser.IE8 = true;\\n</script>\\n<![endif]-->\\n<!--[if IE 9]>\\n<script type=\"text/javascript\" language=\"Javascript1.3\">\\nPrototype.Browser.IE9 = true;\\n</script>\\n<![endif]-->\\n<script src=\"/bokuprod/js/coeffect.jsa?20141202202948\" type=\"text/javascript\"></script>\\n<script src=\"/bokuprod/js/utf8count.jsa?20170221183608\" type=\"text/javascript\"></script>\\n<script src=\"/bokuprod/js/comaskjs.jsa?20170704232118\" type=\"text/javascript\"></script>\\n<script src=\"/bokuprod/js/prototip.jsa?20100310194449\" type=\"text/javascript\"></script>\\n<script charset=\"WINDOWS-1252\" src=\"/bokuprod/js/wbjsincludes_de.js\" type=\"text/javascript\"></script>\\n\\n\\n<script type=\"text/javascript\" language=\"Javascript1.3\">\\n <!-- \\nself.tt = function(vId, vText, pFixed)\\n{\\nvTip = new Tip(vId, vText ,{ fixed: pFixed });\\n};\\n//-->\\n</script>\\n</body>\\n</html>\\n'"
      ]
     },
     "execution_count": 5,
     "metadata": {},
     "output_type": "execute_result"
    }
   ],
   "source": [
    "response.content"
   ]
  },
  {
   "cell_type": "code",
   "execution_count": 6,
   "metadata": {},
   "outputs": [],
   "source": [
    "# ordentlich_gemeldet = {\"Inland Frauen\": 4, \"Inland Männer\": 5}"
   ]
  },
  {
   "cell_type": "code",
   "execution_count": 7,
   "metadata": {},
   "outputs": [],
   "source": [
    "from bs4 import BeautifulSoup"
   ]
  },
  {
   "cell_type": "code",
   "execution_count": 8,
   "metadata": {},
   "outputs": [
    {
     "data": {
      "text/plain": [
       "<!DOCTYPE HTML PUBLIC \"-//W3C//DTD HTML 4.01 Transitional//EN\" \"http://www.w3.org/TR/html4/loose.dtd\">\n",
       "\n",
       "<!-- PAGEID:7009470 KurzBez:7050610 -->\n",
       "<html class=\"fwk-pu app-studstat\" id=\"id-page-7050610\" lang=\"de\">\n",
       "<head>\n",
       "<meta content=\"text/html; charset=utf-8\" http-equiv=\"Content-Type\" name=\"\"/><meta content=\"no-cache\" http-equiv=\"pragma\" name=\"\"/><meta content=\"University of Natural Resources and Life Sciences, Vienna\" http-equiv=\"\" name=\"Author\"/>\n",
       "<title>Studierendenstatistik - BOKUonline - Universität für Bodenkultur Wien</title>\n",
       "<link href=\"/bokuprod/img/favicon.ico?20090224151815\" rel=\"shortcut icon\"/>\n",
       "<link href=\"/bokuprod/css/css_sys_w_m.css?20160515193021\" rel=\"stylesheet\" type=\"text/css\"/>\n",
       "<link href=\"/bokuprod/css/css_loc_w_m.css?20170613233425\" rel=\"stylesheet\" type=\"text/css\"/>\n",
       "<style type=\"text/css\">\n",
       "  A { text-decoration:underline;} \n",
       "  BODY { font-size:14px;background-image:url(/bokuprod/img/background_production_bokuprod.png?20150721225650);} \n",
       "</style>\n",
       "<script type=\"text/javascript\">\n",
       " <!-- \n",
       " var GLOBALimgPath = \"/bokuprod/img/\";\n",
       " var GLOBALSize = \"M\";\n",
       " var GLOBALSizeMult = 14;\n",
       " var GLOBALMaskFocus;\n",
       " var GLOBALhomeUrl = \"online.boku.ac.at\";\n",
       " var GLOBALhomeIndicator = \"<img src='/bokuprod/img/co_logo_m_bokuprod.png?20150721230507' BORDER=0 />\";\n",
       "var GLOBALLOVSucheArr = new Array();\n",
       "//-->\n",
       "</script>\n",
       "<script charset=\"WINDOWS-1252\" src=\"/bokuprod/js/1484.jsa?20140429194354\" type=\"text/javascript\"></script>\n",
       "<script charset=\"WINDOWS-1252\" src=\"/bokuprod/js/1483.jsa?20071031142112\" type=\"text/javascript\"></script>\n",
       "<script charset=\"WINDOWS-1252\" src=\"/bokuprod/js/globallibrary.jsa?20161122204141\" type=\"text/javascript\"></script>\n",
       "<script charset=\"WINDOWS-1252\" src=\"/bokuprod/js/globalwinmanagement.jsa?20170704230740\" type=\"text/javascript\"></script>\n",
       "<script charset=\"WINDOWS-1252\" src=\"/bokuprod/js/cbe_event.jsa?20071031142106\" type=\"text/javascript\"></script>\n",
       "</head>\n",
       "<body onload=\"if ( parent &amp;&amp; window &amp;&amp; parent != window ) { var vTitle =' '; if( parent &amp;&amp; parent.detail &amp;&amp; parent.detail.document.title ) { vTitle = vTitle.concat(parent.detail.document.title.replace(/[\\n\\r\\x22\\']|^\\s*/g, '')); parent.document.title = vTitle; } else { if( parent &amp;&amp; parent.frames[0] &amp;&amp; parent.frames[0].document.title ) {vTitle = vTitle.concat(parent.frames[0].document.title.replace(/[\\n\\r\\x22\\']|^\\s*/g, '')); parent.document.title = vTitle; } } }cbeInitialize(); if (typeof(GLOBALMaskFocus)!= 'undefined' &amp;&amp; GLOBALMaskFocus!='') { eval(GLOBALMaskFocus + '.focus();');};\">\n",
       "<div id=\"pageContent\">\n",
       "<div class=\"coTooltip\" id=\"GLOBALcoTooltip\"></div>\n",
       "<table align=\"center\" cellpadding=\"0\" cellspacing=\"0\" class=\"bodyTable\" id=\"idTopPageHeader\" width=\"100%\">\n",
       "<tr class=\"middle coHeaderTopRow\" valign=\"middle\">\n",
       "<td class=\"pageOwner\" nowrap=\"nowrap\"><a class=\"s\" href=\"wborg.display?pOrgNr=1\">Universität für Bodenkultur Wien</a></td>\n",
       "<td class=\"wr100\" width=\"100%\"> </td>\n",
       "<td> </td>\n",
       "<td></td>\n",
       "<td>\n",
       "<script charset=\"WINDOWS-1252\" src=\"/bokuprod/js/wosinddieframes.jsa?20110412184546\" type=\"text/javascript\"></script>\n",
       "</td>\n",
       "</tr>\n",
       "</table>\n",
       "<table align=\"center\" cellpadding=\"0\" cellspacing=\"0\" class=\"pageObjectNoTopBorder\" id=\"idPageHeader\" width=\"100%\">\n",
       "<tr align=\"left\" valign=\"top\">\n",
       "<td style=\"padding:10px;width:100%;\" valign=\"middle\">\n",
       "<table width=\"100%\">\n",
       "<tr valign=\"top\">\n",
       "<td width=\"100%\"><h1 class=\"headerHeading noMargin\">Studierendenstatistik</h1></td>\n",
       "</tr>\n",
       "<tr style=\"vertical-align:middle\" valign=\"top\">\n",
       "<td width=\"100%\"><h2 class=\"m normalWeight headerObject noMargin\" id=\"idCaSubTitle\">Statistiken über Studierende, Studien und Studienabschlüsse</h2></td>\n",
       "</tr>\n",
       "</table>\n",
       "</td>\n",
       "<td align=\"right\">\n",
       "<table class=\"nav puNav caPuFwk\" id=\"idPageNavi\" summary=\"Menü\">\n",
       "<tr>\n",
       "<th class=\"nav caNav ca-key-id ca-id-nav-studienjahr\" nowrap=\"nowrap\">Studienjahr </th>\n",
       "<td class=\"nav\" nowrap=\"\">\n",
       "<span id=\"AS0\" style=\"visibility:visible;\">\n",
       "<a class=\"nav caNav caSliderLefti\" href=\"javascript:lefti('S0');\"><img alt=\"zurück\" border=\"0\" hspace=\"2\" src=\"/bokuprod/img/arrprev.gif?20080107131404\"/></a>\n",
       "</span><span id=\"BS0\">\n",
       "<a class=\"nav caNav caSliderEntry\" href=\"Studierendenstatistik.html?pAuswertung=1&amp;pSJ=1801&amp;pSemester=S&amp;pGruppierung=1&amp;pVerteilungsschluessel=TRUE\">2017/18</a>\n",
       "<a class=\"nav caNav caSliderEntry\" href=\"Studierendenstatistik.html?pAuswertung=1&amp;pSJ=1820&amp;pSemester=S&amp;pGruppierung=1&amp;pVerteilungsschluessel=TRUE\">2018/19</a>\n",
       "<a class=\"nav caNav caSliderEntry\" href=\"Studierendenstatistik.html?pAuswertung=1&amp;pSJ=1840&amp;pSemester=S&amp;pGruppierung=1&amp;pVerteilungsschluessel=TRUE\">2019/20</a>\n",
       "<span class=\"navSelected caNav caSliderEntry\">2020/21</span>\n",
       "</span><span id=\"CS0\" style=\"visibility:hidden;\">\n",
       "<a class=\"nav caNav caSliderRighti\" href=\"javascript:righti('S0');\"><img alt=\"weiter\" border=\"0\" hspace=\"2\" src=\"/bokuprod/img/arrnext.gif?20080107131402\"/></a>\n",
       "</span>\n",
       "</td>\n",
       "</tr>\n",
       "<tr>\n",
       "<th class=\"nav caNav ca-key-id ca-id-semester\" nowrap=\"nowrap\">Semester </th>\n",
       "<td class=\"nav\" nowrap=\"\">\n",
       "<a class=\"nav caNav ca-key-id ca-id-winter\" href=\"Studierendenstatistik.html?pAuswertung=1&amp;pSJ=1860&amp;pSemester=W&amp;pGruppierung=1&amp;pVerteilungsschluessel=TRUE\">Winter</a>\n",
       "<span class=\"navSelected caNav ca-key-id ca-id-sommer\">Sommer</span>\n",
       "</td>\n",
       "</tr>\n",
       "<tr>\n",
       "<th class=\"nav caNav ca-key-id ca-id-personenzählung\" nowrap=\"nowrap\">Personenzählung </th>\n",
       "<td class=\"nav\" nowrap=\"\">\n",
       "<span class=\"navSelected caNav ca-key-id ca-id-studierende\"><span id=\"TTId10860623752\" onmouseover=\"tt(this.id, 'Personen mit gemeldeten, offenen Studien (PU)', false );\">Studierende</span></span>\n",
       "<a class=\"nav caNav ca-key-id ca-id-neuzugelassene studierende\" href=\"Studierendenstatistik.html?pAuswertung=2&amp;pSJ=1860&amp;pSemester=S&amp;pGruppierung=1&amp;pVerteilungsschluessel=TRUE\" title=\"Erstmals zugelassene Personen mit gemeldeten, offenen Studien (PN)\">Neuzugelassene Studierende</a>\n",
       "</td>\n",
       "</tr>\n",
       "<tr>\n",
       "<th class=\"nav\" nowrap=\"nowrap\"> </th>\n",
       "<td class=\"nav\" nowrap=\"\">\n",
       "<a class=\"nav caNav ca-key-id ca-id-neuzugelassene ordentliche studierende\" href=\"Studierendenstatistik.html?pAuswertung=3&amp;pSJ=1860&amp;pSemester=S&amp;pGruppierung=1&amp;pVerteilungsschluessel=TRUE\" title=\"Erstmals zu ordentlichen Studien zugelassene Personen mit gemeldeten, offenen Studien (PO)\">Neuzugelassene ordentliche Studierende</a>\n",
       "</td>\n",
       "</tr>\n",
       "<tr>\n",
       "<th class=\"nav\" nowrap=\"nowrap\"> </th>\n",
       "<td class=\"nav\" nowrap=\"\">\n",
       "<a class=\"nav caNav ca-key-id ca-id-studierende im 1. semester\" href=\"Studierendenstatistik.html?pAuswertung=4&amp;pSJ=1860&amp;pSemester=S&amp;pGruppierung=1&amp;pVerteilungsschluessel=TRUE\" title=\"Personen im ersten Semester mit gemeldeten, offenen Studien (PI)\">Studierende im 1. Semester</a>\n",
       "<a class=\"nav caNav ca-key-id ca-id-erstzugelassene\" href=\"Studierendenstatistik.html?pAuswertung=5&amp;pSJ=1860&amp;pSemester=S&amp;pGruppierung=1&amp;pVerteilungsschluessel=TRUE\" title=\"Erstmals zu Studien in Österreich zugelassene Personen mit gemeldeten, offenen Studien (PE)\">Erstzugelassene</a>\n",
       "<a class=\"nav caNav ca-key-id ca-id-mitbeleger/innen\" href=\"Studierendenstatistik.html?pAuswertung=6&amp;pSJ=1860&amp;pSemester=S&amp;pGruppierung=1&amp;pVerteilungsschluessel=TRUE\" title=\"Personen, die zu Studien gemeldet sind, die an anderen Universitäten/Hochschulen zugelassen sind (PM)\">Mitbeleger/innen</a>\n",
       "</td>\n",
       "</tr>\n",
       "<tr>\n",
       "<th class=\"nav\" nowrap=\"nowrap\"> </th>\n",
       "<td class=\"nav\" nowrap=\"\">\n",
       "<a class=\"nav caNav ca-key-id ca-id-herkunft der studierenden\" href=\"Studierendenstatistik.html?pAuswertung=7&amp;pSJ=1860&amp;pSemester=S&amp;pGruppierung=1&amp;pVerteilungsschluessel=TRUE\" title=\"Nationalitäten gemeldeter, beurlaubter, ordentlicher und außerordentlicher Studierender (HE)\">Herkunft der Studierenden</a>\n",
       "</td>\n",
       "</tr>\n",
       "<tr>\n",
       "<th class=\"nav caNav ca-key-id ca-id-studienzählung\" nowrap=\"nowrap\">Studienzählung </th>\n",
       "<td class=\"nav\" nowrap=\"\">\n",
       "<a class=\"nav caNav ca-key-id ca-id-belegte studien\" href=\"Studierendenstatistik.html?pAuswertung=8&amp;pSJ=1860&amp;pSemester=S&amp;pGruppierung=1&amp;pVerteilungsschluessel=TRUE\" title=\"Studien, zu denen Zulassung oder Fortsetzungsmeldung erfolgte (SB)\">belegte Studien</a>\n",
       "<a class=\"nav caNav ca-key-id ca-id-belegte studien im 1. semester\" href=\"Studierendenstatistik.html?pAuswertung=9&amp;pSJ=1860&amp;pSemester=S&amp;pGruppierung=1&amp;pVerteilungsschluessel=TRUE\" title=\"Studien, zu denen die erstmalige Zulassung erfolgte (ohne Vorstudien) (SN)\">belegte Studien im 1. Semester</a>\n",
       "</td>\n",
       "</tr>\n",
       "<tr>\n",
       "<th class=\"nav\" nowrap=\"nowrap\"> </th>\n",
       "<td class=\"nav\" nowrap=\"\">\n",
       "<a class=\"nav caNav ca-key-id ca-id-belegte studien der erstzugelassenen\" href=\"Studierendenstatistik.html?pAuswertung=10&amp;pSJ=1860&amp;pSemester=S&amp;pGruppierung=1&amp;pVerteilungsschluessel=TRUE\" title=\"Studien von Studierenden, die erstmals in Österreich zu einem Studium zugelassen wurden (SE)\">belegte Studien der Erstzugelassenen</a>\n",
       "<a class=\"nav caNav ca-key-id ca-id-mitbelegte studien\" href=\"Studierendenstatistik.html?pAuswertung=11&amp;pSJ=1860&amp;pSemester=S&amp;pGruppierung=2&amp;pVerteilungsschluessel=TRUE\" title=\"Studien, zu denen eine Fortsetzungsmeldung mit Zulassung an einer anderen Universität/Hochschule erfolgte (SM)\">mitbelegte Studien</a>\n",
       "</td>\n",
       "</tr>\n",
       "<tr>\n",
       "<th class=\"nav caNav ca-key-id ca-id-abschlüsse\" nowrap=\"nowrap\">Abschlüsse </th>\n",
       "<td class=\"nav\" nowrap=\"\">\n",
       "<a class=\"nav caNav ca-key-id ca-id-abgeschlossene studien\" href=\"Studierendenstatistik.html?pAuswertung=13&amp;pSJ=1860&amp;pSemester=S&amp;pGruppierung=1&amp;pVerteilungsschluessel=TRUE\" title=\"Abgeschlossene ordentliche oder außerordentliche Studien (SA)\">abgeschlossene Studien</a>\n",
       "</td>\n",
       "</tr>\n",
       "<tr>\n",
       "<th class=\"nav caNav ca-key-id ca-id-aktion\" nowrap=\"nowrap\">Aktion </th>\n",
       "<td class=\"nav\" nowrap=\"\">\n",
       "<a class=\"nav caNav ca-key-id ca-id-export\" href=\"Studierendenstatistik.xls?pAuswertung=1&amp;pSJ=1860&amp;pSemester=S&amp;pGruppierung=1&amp;pVerteilungsschluessel=TRUE\" title=\"Export im CSV-Format\">Export</a>\n",
       "<script type=\"text/javascript\">\n",
       "<!-- // SliderCode\n",
       "var slider = new Array(\"S1\");\n",
       "var maxanz = new Array(\"S1\");\n",
       "var start = new Array(\"S1\");\n",
       "slider[\"S0\"] = new Array(14);\n",
       "slider[\"S0\"][0] = new Array(2);\n",
       "slider[\"S0\"][0][0] = \"2007/08\";\n",
       "slider[\"S0\"][0][1] = \"Studierendenstatistik.html?pAuswertung=1&pSJ=1565&pSemester=S&pGruppierung=1&pVerteilungsschluessel=TRUE\";\n",
       "slider[\"S0\"][0][2] = \"\";\n",
       "slider[\"S0\"][1] = new Array(2);\n",
       "slider[\"S0\"][1][0] = \"2008/09\";\n",
       "slider[\"S0\"][1][1] = \"Studierendenstatistik.html?pAuswertung=1&pSJ=1567&pSemester=S&pGruppierung=1&pVerteilungsschluessel=TRUE\";\n",
       "slider[\"S0\"][1][2] = \"\";\n",
       "slider[\"S0\"][2] = new Array(2);\n",
       "slider[\"S0\"][2][0] = \"2009/10\";\n",
       "slider[\"S0\"][2][1] = \"Studierendenstatistik.html?pAuswertung=1&pSJ=1569&pSemester=S&pGruppierung=1&pVerteilungsschluessel=TRUE\";\n",
       "slider[\"S0\"][2][2] = \"\";\n",
       "slider[\"S0\"][3] = new Array(2);\n",
       "slider[\"S0\"][3][0] = \"2010/11\";\n",
       "slider[\"S0\"][3][1] = \"Studierendenstatistik.html?pAuswertung=1&pSJ=1701&pSemester=S&pGruppierung=1&pVerteilungsschluessel=TRUE\";\n",
       "slider[\"S0\"][3][2] = \"\";\n",
       "slider[\"S0\"][4] = new Array(2);\n",
       "slider[\"S0\"][4][0] = \"2011/12\";\n",
       "slider[\"S0\"][4][1] = \"Studierendenstatistik.html?pAuswertung=1&pSJ=1703&pSemester=S&pGruppierung=1&pVerteilungsschluessel=TRUE\";\n",
       "slider[\"S0\"][4][2] = \"\";\n",
       "slider[\"S0\"][5] = new Array(2);\n",
       "slider[\"S0\"][5][0] = \"2012/13\";\n",
       "slider[\"S0\"][5][1] = \"Studierendenstatistik.html?pAuswertung=1&pSJ=1705&pSemester=S&pGruppierung=1&pVerteilungsschluessel=TRUE\";\n",
       "slider[\"S0\"][5][2] = \"\";\n",
       "slider[\"S0\"][6] = new Array(2);\n",
       "slider[\"S0\"][6][0] = \"2013/14\";\n",
       "slider[\"S0\"][6][1] = \"Studierendenstatistik.html?pAuswertung=1&pSJ=1721&pSemester=S&pGruppierung=1&pVerteilungsschluessel=TRUE\";\n",
       "slider[\"S0\"][6][2] = \"\";\n",
       "slider[\"S0\"][7] = new Array(2);\n",
       "slider[\"S0\"][7][0] = \"2014/15\";\n",
       "slider[\"S0\"][7][1] = \"Studierendenstatistik.html?pAuswertung=1&pSJ=1741&pSemester=S&pGruppierung=1&pVerteilungsschluessel=TRUE\";\n",
       "slider[\"S0\"][7][2] = \"\";\n",
       "slider[\"S0\"][8] = new Array(2);\n",
       "slider[\"S0\"][8][0] = \"2015/16\";\n",
       "slider[\"S0\"][8][1] = \"Studierendenstatistik.html?pAuswertung=1&pSJ=1761&pSemester=S&pGruppierung=1&pVerteilungsschluessel=TRUE\";\n",
       "slider[\"S0\"][8][2] = \"\";\n",
       "slider[\"S0\"][9] = new Array(2);\n",
       "slider[\"S0\"][9][0] = \"2016/17\";\n",
       "slider[\"S0\"][9][1] = \"Studierendenstatistik.html?pAuswertung=1&pSJ=1780&pSemester=S&pGruppierung=1&pVerteilungsschluessel=TRUE\";\n",
       "slider[\"S0\"][9][2] = \"\";\n",
       "slider[\"S0\"][10] = new Array(2);\n",
       "slider[\"S0\"][10][0] = \"2017/18\";\n",
       "slider[\"S0\"][10][1] = \"Studierendenstatistik.html?pAuswertung=1&pSJ=1801&pSemester=S&pGruppierung=1&pVerteilungsschluessel=TRUE\";\n",
       "slider[\"S0\"][10][2] = \"\";\n",
       "slider[\"S0\"][11] = new Array(2);\n",
       "slider[\"S0\"][11][0] = \"2018/19\";\n",
       "slider[\"S0\"][11][1] = \"Studierendenstatistik.html?pAuswertung=1&pSJ=1820&pSemester=S&pGruppierung=1&pVerteilungsschluessel=TRUE\";\n",
       "slider[\"S0\"][11][2] = \"\";\n",
       "slider[\"S0\"][12] = new Array(2);\n",
       "slider[\"S0\"][12][0] = \"2019/20\";\n",
       "slider[\"S0\"][12][1] = \"Studierendenstatistik.html?pAuswertung=1&pSJ=1840&pSemester=S&pGruppierung=1&pVerteilungsschluessel=TRUE\";\n",
       "slider[\"S0\"][12][2] = \"\";\n",
       "slider[\"S0\"][13] = new Array(2);\n",
       "slider[\"S0\"][13][0] = \"2020/21\";\n",
       "slider[\"S0\"][13][1] = \"\";\n",
       "slider[\"S0\"][13][2] = \"\";\n",
       "\n",
       "maxanz[\"S0\"] = 4;\n",
       "start[\"S0\"] = 10;\n",
       "// -->\n",
       "</script>\n",
       "</td>\n",
       "</tr>\n",
       "</table>\n",
       "</td>\n",
       "</tr>\n",
       "</table>\n",
       "<table class=\"list\">\n",
       "<tr>\n",
       "<th class=\"tblHdr\" colspan=\"7\">Stand vom 04.06.2021</th>\n",
       "</tr>\n",
       "<tr>\n",
       "<th class=\"tblHdr\">Studierendenstatus</th>\n",
       "<th class=\"tblHdr\">Studienstatus</th>\n",
       "<th class=\"tblHdr\">Inland Frauen</th>\n",
       "<th class=\"tblHdr\">Inland Männer</th>\n",
       "<th class=\"tblHdr\">Ausland Frauen</th>\n",
       "<th class=\"tblHdr\">Ausland Männer</th>\n",
       "<th class=\"tblHdr\">gesamt</th>\n",
       "</tr>\n",
       "<tr class=\"z0\">\n",
       "<td align=\"left\">Ordentlich</td>\n",
       "<td align=\"left\">gemeldet</td>\n",
       "<td align=\"right\">3851</td>\n",
       "<td align=\"right\">3683</td>\n",
       "<td align=\"right\">1251</td>\n",
       "<td align=\"right\">1053</td>\n",
       "<td align=\"right\">9838</td>\n",
       "</tr>\n",
       "<tr class=\"z1\">\n",
       "<td align=\"left\">Ordentlich</td>\n",
       "<td align=\"left\">beurlaubt</td>\n",
       "<td align=\"right\">46</td>\n",
       "<td align=\"right\">39</td>\n",
       "<td align=\"right\">15</td>\n",
       "<td align=\"right\">4</td>\n",
       "<td align=\"right\">104</td>\n",
       "</tr>\n",
       "<tr class=\"z0\">\n",
       "<td align=\"left\">Außerordentlich</td>\n",
       "<td align=\"left\">gemeldet</td>\n",
       "<td align=\"right\">123</td>\n",
       "<td align=\"right\">86</td>\n",
       "<td align=\"right\">49</td>\n",
       "<td align=\"right\">42</td>\n",
       "<td align=\"right\">300</td>\n",
       "</tr>\n",
       "<tr class=\"z1\">\n",
       "<td align=\"left\">Außerordentlich</td>\n",
       "<td align=\"left\">beurlaubt</td>\n",
       "<td align=\"right\">0</td>\n",
       "<td align=\"right\">0</td>\n",
       "<td align=\"right\">2</td>\n",
       "<td align=\"right\">0</td>\n",
       "<td align=\"right\">2</td>\n",
       "</tr>\n",
       "<tr class=\"z0\">\n",
       "<td align=\"left\">Ordentlich (amtswegige Mitbelegung)</td>\n",
       "<td align=\"left\">gemeldet</td>\n",
       "<td align=\"right\">89</td>\n",
       "<td align=\"right\">1</td>\n",
       "<td align=\"right\">32</td>\n",
       "<td align=\"right\">2</td>\n",
       "<td align=\"right\">124</td>\n",
       "</tr>\n",
       "<tr>\n",
       "<th class=\"tblSumGroupR\" colspan=\"2\"><b>gesamt:</b></th>\n",
       "<th class=\"tblSumGroup\" colspan=\"1\"><b>4109</b></th>\n",
       "<th class=\"tblSumGroup\" colspan=\"1\"><b>3809</b></th>\n",
       "<th class=\"tblSumGroup\" colspan=\"1\"><b>1349</b></th>\n",
       "<th class=\"tblSumGroup\" colspan=\"1\"><b>1101</b></th>\n",
       "<th class=\"tblSumGroup\" colspan=\"1\"><b>10368</b></th>\n",
       "</tr>\n",
       "<tr class=\"tblHdr\">\n",
       "<th class=\"tblHdr\" colspan=\"7\"> </th>\n",
       "</tr>\n",
       "</table>\n",
       "<br/>\n",
       "<table cellpadding=\"0\" cellspacing=\"0\" class=\"nomargins pageFooter\" id=\"idPageFooter\" width=\"100%\">\n",
       "<tr class=\"z1\"><td class=\"footerCell\"><span class=\"footer\">©2021 Universität für Bodenkultur Wien. Alle Rechte vorbehalten. </span><span class=\"footer\"> | BOKUonline powered by <a href=\"https://campusonline.tugraz.at\" name=\"courl\" onclick=\"window.open(this.href); return(false);\">CAMPUSonline</a>® | <a class=\"footer\" href=\"http://www.boku.ac.at/impressum.html\" onclick=\"GLOBALwindow(this.href,this.target,'YES',0);return false;\" target=\"impressum\">Impressum</a> | <a class=\"footer\" href=\"mailto:support.bokuonline%40boku.ac.at\" onclick=\"GLOBALEmailWindow('', '', 'support.bokuonline(at)boku.ac.at'.replace('(at)','@'), 'BOKUonline', 'Anregungen Wuensche Beschwerden', '', '', '', 'OWN');return false;\" onmouseover=\"this.title= 'Nachricht senden an ' +'support.bokuonline(at)boku.ac.at'     \" target=\"emailWin\" title=\"Feedback BOKUonline\">Feedback</a> | <a class=\"footer\" href=\"http://short.boku.ac.at/teach-and-learn\" onclick=\"GLOBALwindow(this.href,this.target,'YES',0);return false;\" target=\"localdocumentation\">Dokumentation</a></span></td></tr>\n",
       "</table>\n",
       "<div class=\"invisible\" id=\"idWindowTemplate\">\n",
       "<div class=\"overlayWindowContent\" id=\"idOverlayWindowContent\">\n",
       "</div>\n",
       "<div class=\"overlayWindowHeader\">\n",
       "<div>\n",
       "<span class=\"overlayWindowTools\"><a class=\"nounderline\" href=\"#\" id=\"idOverlayClose\" onclick=\"try{CO.Window.close(this);return(false);}catch(e){return($E(e));}\"><img alt=\"\" height=\"24\" src=\"/bokuprod/img/msg_close.png?20120828233057\" width=\"24\"/></a></span><h1 class=\"overlayWindowTitle\" id=\"idOverlayWindowTitle\">\n",
       "Loading ...\n",
       "</h1>\n",
       "</div>\n",
       "</div>\n",
       "</div>\n",
       "</div>\n",
       "<script src=\"/bokuprod/js/prototype_1_7.js?20131203211538\" type=\"text/javascript\"></script>\n",
       "<script src=\"/bokuprod/js/cojs.jsa?20180328204610\" type=\"text/javascript\"></script>\n",
       "<script type=\"text/javascript\">\n",
       "if(typeof(CO) === 'undefined') { var CO = Class.create(); } CO.IMGPATH = 'https://online.boku.ac.at/bokuprod/img/';\n",
       "</script>\n",
       "<!--[if lte IE 7]>\n",
       "<script type=\"text/javascript\" language=\"Javascript1.3\">\n",
       "Prototype.Browser.IE6 = true; Prototype.Browser.IE7 = false;\n",
       "</script>\n",
       "<![endif]-->\n",
       "<!--[if IE 7]>\n",
       "<script type=\"text/javascript\" language=\"Javascript1.3\">\n",
       "Prototype.Browser.IE6 = false; Prototype.Browser.IE7 = true;\n",
       "</script>\n",
       "<![endif]-->\n",
       "<!--[if IE 8]>\n",
       "<script type=\"text/javascript\" language=\"Javascript1.3\">\n",
       "Prototype.Browser.IE8 = true;\n",
       "</script>\n",
       "<![endif]-->\n",
       "<!--[if IE 9]>\n",
       "<script type=\"text/javascript\" language=\"Javascript1.3\">\n",
       "Prototype.Browser.IE9 = true;\n",
       "</script>\n",
       "<![endif]-->\n",
       "<script src=\"/bokuprod/js/coeffect.jsa?20141202202948\" type=\"text/javascript\"></script>\n",
       "<script src=\"/bokuprod/js/utf8count.jsa?20170221183608\" type=\"text/javascript\"></script>\n",
       "<script src=\"/bokuprod/js/comaskjs.jsa?20170704232118\" type=\"text/javascript\"></script>\n",
       "<script src=\"/bokuprod/js/prototip.jsa?20100310194449\" type=\"text/javascript\"></script>\n",
       "<script charset=\"WINDOWS-1252\" src=\"/bokuprod/js/wbjsincludes_de.js\" type=\"text/javascript\"></script>\n",
       "<script language=\"Javascript1.3\" type=\"text/javascript\">\n",
       " <!-- \n",
       "self.tt = function(vId, vText, pFixed)\n",
       "{\n",
       "vTip = new Tip(vId, vText ,{ fixed: pFixed });\n",
       "};\n",
       "//-->\n",
       "</script>\n",
       "</body>\n",
       "</html>"
      ]
     },
     "execution_count": 8,
     "metadata": {},
     "output_type": "execute_result"
    }
   ],
   "source": [
    "soup = BeautifulSoup(response.content, \"html.parser\")\n",
    "soup"
   ]
  },
  {
   "cell_type": "code",
   "execution_count": 9,
   "metadata": {},
   "outputs": [
    {
     "data": {
      "text/plain": [
       "6"
      ]
     },
     "execution_count": 9,
     "metadata": {},
     "output_type": "execute_result"
    }
   ],
   "source": [
    "len(soup.find_all(\"table\"))"
   ]
  },
  {
   "cell_type": "code",
   "execution_count": 10,
   "metadata": {},
   "outputs": [
    {
     "data": {
      "text/plain": [
       "<table class=\"list\">\n",
       "<tr>\n",
       "<th class=\"tblHdr\" colspan=\"7\">Stand vom 04.06.2021</th>\n",
       "</tr>\n",
       "<tr>\n",
       "<th class=\"tblHdr\">Studierendenstatus</th>\n",
       "<th class=\"tblHdr\">Studienstatus</th>\n",
       "<th class=\"tblHdr\">Inland Frauen</th>\n",
       "<th class=\"tblHdr\">Inland Männer</th>\n",
       "<th class=\"tblHdr\">Ausland Frauen</th>\n",
       "<th class=\"tblHdr\">Ausland Männer</th>\n",
       "<th class=\"tblHdr\">gesamt</th>\n",
       "</tr>\n",
       "<tr class=\"z0\">\n",
       "<td align=\"left\">Ordentlich</td>\n",
       "<td align=\"left\">gemeldet</td>\n",
       "<td align=\"right\">3851</td>\n",
       "<td align=\"right\">3683</td>\n",
       "<td align=\"right\">1251</td>\n",
       "<td align=\"right\">1053</td>\n",
       "<td align=\"right\">9838</td>\n",
       "</tr>\n",
       "<tr class=\"z1\">\n",
       "<td align=\"left\">Ordentlich</td>\n",
       "<td align=\"left\">beurlaubt</td>\n",
       "<td align=\"right\">46</td>\n",
       "<td align=\"right\">39</td>\n",
       "<td align=\"right\">15</td>\n",
       "<td align=\"right\">4</td>\n",
       "<td align=\"right\">104</td>\n",
       "</tr>\n",
       "<tr class=\"z0\">\n",
       "<td align=\"left\">Außerordentlich</td>\n",
       "<td align=\"left\">gemeldet</td>\n",
       "<td align=\"right\">123</td>\n",
       "<td align=\"right\">86</td>\n",
       "<td align=\"right\">49</td>\n",
       "<td align=\"right\">42</td>\n",
       "<td align=\"right\">300</td>\n",
       "</tr>\n",
       "<tr class=\"z1\">\n",
       "<td align=\"left\">Außerordentlich</td>\n",
       "<td align=\"left\">beurlaubt</td>\n",
       "<td align=\"right\">0</td>\n",
       "<td align=\"right\">0</td>\n",
       "<td align=\"right\">2</td>\n",
       "<td align=\"right\">0</td>\n",
       "<td align=\"right\">2</td>\n",
       "</tr>\n",
       "<tr class=\"z0\">\n",
       "<td align=\"left\">Ordentlich (amtswegige Mitbelegung)</td>\n",
       "<td align=\"left\">gemeldet</td>\n",
       "<td align=\"right\">89</td>\n",
       "<td align=\"right\">1</td>\n",
       "<td align=\"right\">32</td>\n",
       "<td align=\"right\">2</td>\n",
       "<td align=\"right\">124</td>\n",
       "</tr>\n",
       "<tr>\n",
       "<th class=\"tblSumGroupR\" colspan=\"2\"><b>gesamt:</b></th>\n",
       "<th class=\"tblSumGroup\" colspan=\"1\"><b>4109</b></th>\n",
       "<th class=\"tblSumGroup\" colspan=\"1\"><b>3809</b></th>\n",
       "<th class=\"tblSumGroup\" colspan=\"1\"><b>1349</b></th>\n",
       "<th class=\"tblSumGroup\" colspan=\"1\"><b>1101</b></th>\n",
       "<th class=\"tblSumGroup\" colspan=\"1\"><b>10368</b></th>\n",
       "</tr>\n",
       "<tr class=\"tblHdr\">\n",
       "<th class=\"tblHdr\" colspan=\"7\"> </th>\n",
       "</tr>\n",
       "</table>"
      ]
     },
     "execution_count": 10,
     "metadata": {},
     "output_type": "execute_result"
    }
   ],
   "source": [
    "table = soup.find(\"table\", class_=\"list\")\n",
    "table"
   ]
  },
  {
   "cell_type": "code",
   "execution_count": 12,
   "metadata": {},
   "outputs": [
    {
     "data": {
      "text/plain": [
       "'Stand vom 04.06.2021'"
      ]
     },
     "execution_count": 12,
     "metadata": {},
     "output_type": "execute_result"
    }
   ],
   "source": [
    "table.contents[1].contents[1].get_text()"
   ]
  },
  {
   "cell_type": "code",
   "execution_count": null,
   "metadata": {},
   "outputs": [],
   "source": []
  },
  {
   "cell_type": "code",
   "execution_count": 13,
   "metadata": {},
   "outputs": [
    {
     "data": {
      "text/plain": [
       "[<th class=\"tblHdr\" colspan=\"7\">Stand vom 04.06.2021</th>,\n",
       " <th class=\"tblHdr\">Studierendenstatus</th>,\n",
       " <th class=\"tblHdr\">Studienstatus</th>,\n",
       " <th class=\"tblHdr\">Inland Frauen</th>,\n",
       " <th class=\"tblHdr\">Inland Männer</th>,\n",
       " <th class=\"tblHdr\">Ausland Frauen</th>,\n",
       " <th class=\"tblHdr\">Ausland Männer</th>,\n",
       " <th class=\"tblHdr\">gesamt</th>,\n",
       " <th class=\"tblSumGroupR\" colspan=\"2\"><b>gesamt:</b></th>,\n",
       " <th class=\"tblSumGroup\" colspan=\"1\"><b>4109</b></th>,\n",
       " <th class=\"tblSumGroup\" colspan=\"1\"><b>3809</b></th>,\n",
       " <th class=\"tblSumGroup\" colspan=\"1\"><b>1349</b></th>,\n",
       " <th class=\"tblSumGroup\" colspan=\"1\"><b>1101</b></th>,\n",
       " <th class=\"tblSumGroup\" colspan=\"1\"><b>10368</b></th>,\n",
       " <th class=\"tblHdr\" colspan=\"7\"> </th>]"
      ]
     },
     "execution_count": 13,
     "metadata": {},
     "output_type": "execute_result"
    }
   ],
   "source": [
    "table.find_all(\"th\")"
   ]
  },
  {
   "cell_type": "code",
   "execution_count": 18,
   "metadata": {},
   "outputs": [],
   "source": [
    "rows = table.find_all(\"tr\")"
   ]
  },
  {
   "cell_type": "code",
   "execution_count": 19,
   "metadata": {},
   "outputs": [
    {
     "data": {
      "text/plain": [
       "[[<th class=\"tblHdr\" colspan=\"7\">Stand vom 04.06.2021</th>],\n",
       " [<th class=\"tblHdr\">Studierendenstatus</th>,\n",
       "  <th class=\"tblHdr\">Studienstatus</th>,\n",
       "  <th class=\"tblHdr\">Inland Frauen</th>,\n",
       "  <th class=\"tblHdr\">Inland Männer</th>,\n",
       "  <th class=\"tblHdr\">Ausland Frauen</th>,\n",
       "  <th class=\"tblHdr\">Ausland Männer</th>,\n",
       "  <th class=\"tblHdr\">gesamt</th>],\n",
       " [],\n",
       " [],\n",
       " [],\n",
       " [],\n",
       " [],\n",
       " [<th class=\"tblSumGroupR\" colspan=\"2\"><b>gesamt:</b></th>,\n",
       "  <th class=\"tblSumGroup\" colspan=\"1\"><b>4109</b></th>,\n",
       "  <th class=\"tblSumGroup\" colspan=\"1\"><b>3809</b></th>,\n",
       "  <th class=\"tblSumGroup\" colspan=\"1\"><b>1349</b></th>,\n",
       "  <th class=\"tblSumGroup\" colspan=\"1\"><b>1101</b></th>,\n",
       "  <th class=\"tblSumGroup\" colspan=\"1\"><b>10368</b></th>],\n",
       " [<th class=\"tblHdr\" colspan=\"7\"> </th>]]"
      ]
     },
     "execution_count": 19,
     "metadata": {},
     "output_type": "execute_result"
    }
   ],
   "source": [
    "[row.find_all(\"th\") for row in rows]"
   ]
  },
  {
   "cell_type": "code",
   "execution_count": 21,
   "metadata": {},
   "outputs": [
    {
     "data": {
      "text/plain": [
       "[<th class=\"tblHdr\">Studierendenstatus</th>,\n",
       " <th class=\"tblHdr\">Studienstatus</th>,\n",
       " <th class=\"tblHdr\">Inland Frauen</th>,\n",
       " <th class=\"tblHdr\">Inland Männer</th>,\n",
       " <th class=\"tblHdr\">Ausland Frauen</th>,\n",
       " <th class=\"tblHdr\">Ausland Männer</th>,\n",
       " <th class=\"tblHdr\">gesamt</th>]"
      ]
     },
     "execution_count": 21,
     "metadata": {},
     "output_type": "execute_result"
    }
   ],
   "source": [
    "rows[1].find_all(\"th\")"
   ]
  },
  {
   "cell_type": "code",
   "execution_count": 22,
   "metadata": {},
   "outputs": [
    {
     "data": {
      "text/plain": [
       "[<th class=\"tblSumGroupR\" colspan=\"2\"><b>gesamt:</b></th>,\n",
       " <th class=\"tblSumGroup\" colspan=\"1\"><b>4109</b></th>,\n",
       " <th class=\"tblSumGroup\" colspan=\"1\"><b>3809</b></th>,\n",
       " <th class=\"tblSumGroup\" colspan=\"1\"><b>1349</b></th>,\n",
       " <th class=\"tblSumGroup\" colspan=\"1\"><b>1101</b></th>,\n",
       " <th class=\"tblSumGroup\" colspan=\"1\"><b>10368</b></th>]"
      ]
     },
     "execution_count": 22,
     "metadata": {},
     "output_type": "execute_result"
    }
   ],
   "source": [
    "rows[-2].find_all(\"th\")"
   ]
  },
  {
   "cell_type": "code",
   "execution_count": 23,
   "metadata": {},
   "outputs": [
    {
     "data": {
      "text/plain": [
       "[<th class=\"tblHdr\">Inland Frauen</th>,\n",
       " <th class=\"tblHdr\">Inland Männer</th>,\n",
       " <th class=\"tblHdr\">Ausland Frauen</th>,\n",
       " <th class=\"tblHdr\">Ausland Männer</th>,\n",
       " <th class=\"tblHdr\">gesamt</th>]"
      ]
     },
     "execution_count": 23,
     "metadata": {},
     "output_type": "execute_result"
    }
   ],
   "source": [
    "rows[1].find_all(\"th\")[2:]"
   ]
  },
  {
   "cell_type": "code",
   "execution_count": 28,
   "metadata": {},
   "outputs": [
    {
     "data": {
      "text/plain": [
       "[<th class=\"tblSumGroup\" colspan=\"1\"><b>4109</b></th>,\n",
       " <th class=\"tblSumGroup\" colspan=\"1\"><b>3809</b></th>,\n",
       " <th class=\"tblSumGroup\" colspan=\"1\"><b>1349</b></th>,\n",
       " <th class=\"tblSumGroup\" colspan=\"1\"><b>1101</b></th>,\n",
       " <th class=\"tblSumGroup\" colspan=\"1\"><b>10368</b></th>]"
      ]
     },
     "execution_count": 28,
     "metadata": {},
     "output_type": "execute_result"
    }
   ],
   "source": [
    "rows[-2].find_all(\"th\")[1:]"
   ]
  },
  {
   "cell_type": "code",
   "execution_count": 64,
   "metadata": {},
   "outputs": [],
   "source": [
    "# TODO: extraktion schlauer machen:\n",
    "# * Nach Zeilen suchen (Bsp: \"gesamt\"), nicht hardkodieren"
   ]
  },
  {
   "cell_type": "code",
   "execution_count": 37,
   "metadata": {},
   "outputs": [],
   "source": [
    "header_row = rows[1]\n",
    "total_row = rows[-2]"
   ]
  },
  {
   "cell_type": "code",
   "execution_count": 44,
   "metadata": {},
   "outputs": [],
   "source": [
    "def extract_values_from_ths(row, ignore_before=0):\n",
    "    return [th.text for th in row.find_all(\"th\")[ignore_before:]]"
   ]
  },
  {
   "cell_type": "code",
   "execution_count": 45,
   "metadata": {},
   "outputs": [
    {
     "data": {
      "text/plain": [
       "['Studierendenstatus',\n",
       " 'Studienstatus',\n",
       " 'Inland Frauen',\n",
       " 'Inland Männer',\n",
       " 'Ausland Frauen',\n",
       " 'Ausland Männer',\n",
       " 'gesamt']"
      ]
     },
     "execution_count": 45,
     "metadata": {},
     "output_type": "execute_result"
    }
   ],
   "source": [
    "extract_values_from_ths(header_row)"
   ]
  },
  {
   "cell_type": "code",
   "execution_count": 49,
   "metadata": {},
   "outputs": [],
   "source": [
    "header = extract_values_from_ths(header_row, ignore_before=2)"
   ]
  },
  {
   "cell_type": "code",
   "execution_count": 83,
   "metadata": {},
   "outputs": [
    {
     "data": {
      "text/plain": [
       "[4109, 3809, 1349, 1101, 10368]"
      ]
     },
     "execution_count": 83,
     "metadata": {},
     "output_type": "execute_result"
    }
   ],
   "source": [
    "totals = [int(value) for value in extract_values_from_ths(total_row, ignore_before=1)]\n",
    "totals"
   ]
  },
  {
   "cell_type": "code",
   "execution_count": 53,
   "metadata": {},
   "outputs": [
    {
     "data": {
      "text/plain": [
       "{'Inland Frauen': 4109,\n",
       " 'Inland Männer': 3809,\n",
       " 'Ausland Frauen': 1349,\n",
       " 'Ausland Männer': 1101,\n",
       " 'gesamt': 10368}"
      ]
     },
     "execution_count": 53,
     "metadata": {},
     "output_type": "execute_result"
    }
   ],
   "source": [
    "total_dict = {}\n",
    "for i in range(len(header)):\n",
    "    total_dict[header[i]] = totals[i]\n",
    "total_dict"
   ]
  },
  {
   "cell_type": "code",
   "execution_count": 54,
   "metadata": {},
   "outputs": [
    {
     "data": {
      "text/plain": [
       "{'Inland Frauen': 4109,\n",
       " 'Inland Männer': 3809,\n",
       " 'Ausland Frauen': 1349,\n",
       " 'Ausland Männer': 1101,\n",
       " 'gesamt': 10368}"
      ]
     },
     "execution_count": 54,
     "metadata": {},
     "output_type": "execute_result"
    }
   ],
   "source": [
    "dict(zip(header, totals))"
   ]
  },
  {
   "cell_type": "code",
   "execution_count": null,
   "metadata": {},
   "outputs": [],
   "source": []
  },
  {
   "cell_type": "code",
   "execution_count": 55,
   "metadata": {},
   "outputs": [],
   "source": [
    "import pandas as pd"
   ]
  },
  {
   "cell_type": "code",
   "execution_count": 86,
   "metadata": {},
   "outputs": [
    {
     "data": {
      "text/html": [
       "<div>\n",
       "<style scoped>\n",
       "    .dataframe tbody tr th:only-of-type {\n",
       "        vertical-align: middle;\n",
       "    }\n",
       "\n",
       "    .dataframe tbody tr th {\n",
       "        vertical-align: top;\n",
       "    }\n",
       "\n",
       "    .dataframe thead th {\n",
       "        text-align: right;\n",
       "    }\n",
       "</style>\n",
       "<table border=\"1\" class=\"dataframe\">\n",
       "  <thead>\n",
       "    <tr style=\"text-align: right;\">\n",
       "      <th></th>\n",
       "      <th>Inland Frauen</th>\n",
       "      <th>Inland Männer</th>\n",
       "      <th>Ausland Frauen</th>\n",
       "      <th>Ausland Männer</th>\n",
       "      <th>gesamt</th>\n",
       "    </tr>\n",
       "  </thead>\n",
       "  <tbody>\n",
       "    <tr>\n",
       "      <th>gesamt</th>\n",
       "      <td>4109</td>\n",
       "      <td>3809</td>\n",
       "      <td>1349</td>\n",
       "      <td>1101</td>\n",
       "      <td>10368</td>\n",
       "    </tr>\n",
       "  </tbody>\n",
       "</table>\n",
       "</div>"
      ],
      "text/plain": [
       "        Inland Frauen  Inland Männer  Ausland Frauen  Ausland Männer  gesamt\n",
       "gesamt           4109           3809            1349            1101   10368"
      ]
     },
     "execution_count": 86,
     "metadata": {},
     "output_type": "execute_result"
    }
   ],
   "source": [
    "df = pd.DataFrame(total_dict, index=[\"gesamt\"])\n",
    "df"
   ]
  },
  {
   "cell_type": "code",
   "execution_count": 87,
   "metadata": {},
   "outputs": [
    {
     "data": {
      "text/html": [
       "<div>\n",
       "<style scoped>\n",
       "    .dataframe tbody tr th:only-of-type {\n",
       "        vertical-align: middle;\n",
       "    }\n",
       "\n",
       "    .dataframe tbody tr th {\n",
       "        vertical-align: top;\n",
       "    }\n",
       "\n",
       "    .dataframe thead th {\n",
       "        text-align: right;\n",
       "    }\n",
       "</style>\n",
       "<table border=\"1\" class=\"dataframe\">\n",
       "  <thead>\n",
       "    <tr style=\"text-align: right;\">\n",
       "      <th></th>\n",
       "      <th>gesamt</th>\n",
       "    </tr>\n",
       "  </thead>\n",
       "  <tbody>\n",
       "    <tr>\n",
       "      <th>Inland Frauen</th>\n",
       "      <td>4109</td>\n",
       "    </tr>\n",
       "    <tr>\n",
       "      <th>Inland Männer</th>\n",
       "      <td>3809</td>\n",
       "    </tr>\n",
       "    <tr>\n",
       "      <th>Ausland Frauen</th>\n",
       "      <td>1349</td>\n",
       "    </tr>\n",
       "    <tr>\n",
       "      <th>Ausland Männer</th>\n",
       "      <td>1101</td>\n",
       "    </tr>\n",
       "    <tr>\n",
       "      <th>gesamt</th>\n",
       "      <td>10368</td>\n",
       "    </tr>\n",
       "  </tbody>\n",
       "</table>\n",
       "</div>"
      ],
      "text/plain": [
       "                gesamt\n",
       "Inland Frauen     4109\n",
       "Inland Männer     3809\n",
       "Ausland Frauen    1349\n",
       "Ausland Männer    1101\n",
       "gesamt           10368"
      ]
     },
     "execution_count": 87,
     "metadata": {},
     "output_type": "execute_result"
    }
   ],
   "source": [
    "pd.DataFrame({\"gesamt\": totals}, index=header)"
   ]
  },
  {
   "cell_type": "code",
   "execution_count": 88,
   "metadata": {},
   "outputs": [
    {
     "data": {
      "text/html": [
       "<div>\n",
       "<style scoped>\n",
       "    .dataframe tbody tr th:only-of-type {\n",
       "        vertical-align: middle;\n",
       "    }\n",
       "\n",
       "    .dataframe tbody tr th {\n",
       "        vertical-align: top;\n",
       "    }\n",
       "\n",
       "    .dataframe thead th {\n",
       "        text-align: right;\n",
       "    }\n",
       "</style>\n",
       "<table border=\"1\" class=\"dataframe\">\n",
       "  <thead>\n",
       "    <tr style=\"text-align: right;\">\n",
       "      <th></th>\n",
       "      <th>Inland Frauen</th>\n",
       "      <th>Inland Männer</th>\n",
       "      <th>Ausland Frauen</th>\n",
       "      <th>Ausland Männer</th>\n",
       "      <th>gesamt</th>\n",
       "    </tr>\n",
       "  </thead>\n",
       "  <tbody>\n",
       "    <tr>\n",
       "      <th>gesamt</th>\n",
       "      <td>4109</td>\n",
       "      <td>3809</td>\n",
       "      <td>1349</td>\n",
       "      <td>1101</td>\n",
       "      <td>10368</td>\n",
       "    </tr>\n",
       "  </tbody>\n",
       "</table>\n",
       "</div>"
      ],
      "text/plain": [
       "        Inland Frauen  Inland Männer  Ausland Frauen  Ausland Männer  gesamt\n",
       "gesamt           4109           3809            1349            1101   10368"
      ]
     },
     "execution_count": 88,
     "metadata": {},
     "output_type": "execute_result"
    }
   ],
   "source": [
    "pd.DataFrame([totals], columns=header, index=[\"gesamt\"])"
   ]
  },
  {
   "cell_type": "code",
   "execution_count": 78,
   "metadata": {},
   "outputs": [],
   "source": [
    "df.to_excel(\"studierendenstatistik.xlsx\")"
   ]
  },
  {
   "cell_type": "code",
   "execution_count": 91,
   "metadata": {},
   "outputs": [
    {
     "data": {
      "text/plain": [
       "<AxesSubplot:>"
      ]
     },
     "execution_count": 91,
     "metadata": {},
     "output_type": "execute_result"
    },
    {
     "data": {
      "image/png": "[encoded data removed]",
      "text/plain": [
       "<Figure size 432x288 with 1 Axes>"
      ]
     },
     "metadata": {
      "needs_background": "light"
     },
     "output_type": "display_data"
    }
   ],
   "source": [
    "df.plot.bar()"
   ]
  },
  {
   "cell_type": "code",
   "execution_count": 95,
   "metadata": {},
   "outputs": [
    {
     "data": {
      "text/plain": [
       "<AxesSubplot:>"
      ]
     },
     "execution_count": 95,
     "metadata": {},
     "output_type": "execute_result"
    },
    {
     "data": {
      "image/png": "[encoded data removed]",
      "text/plain": [
       "<Figure size 432x288 with 1 Axes>"
      ]
     },
     "metadata": {
      "needs_background": "light"
     },
     "output_type": "display_data"
    }
   ],
   "source": [
    "df.drop(columns=[\"gesamt\"]).plot.bar()"
   ]
  },
  {
   "cell_type": "code",
   "execution_count": 99,
   "metadata": {},
   "outputs": [
    {
     "data": {
      "text/plain": [
       "gesamt    1.078761\n",
       "dtype: float64"
      ]
     },
     "execution_count": 99,
     "metadata": {},
     "output_type": "execute_result"
    }
   ],
   "source": [
    "df['Inland Frauen'] / df['Inland Männer']"
   ]
  },
  {
   "cell_type": "code",
   "execution_count": 100,
   "metadata": {},
   "outputs": [
    {
     "data": {
      "text/plain": [
       "gesamt    1.22525\n",
       "dtype: float64"
      ]
     },
     "execution_count": 100,
     "metadata": {},
     "output_type": "execute_result"
    }
   ],
   "source": [
    "df['Ausland Frauen'] / df['Ausland Männer']"
   ]
  },
  {
   "cell_type": "code",
   "execution_count": 101,
   "metadata": {},
   "outputs": [],
   "source": [
    "# Höherer Frauenanteil bei Ausland. Liegt das nur an höherer Beurlaubung und mehr Mitbelegung?"
   ]
  }
 ],
 "metadata": {
  "kernelspec": {
   "display_name": "Python 3",
   "language": "python",
   "name": "python3"
  },
  "language_info": {
   "codemirror_mode": {
    "name": "ipython",
    "version": 3
   },
   "file_extension": ".py",
   "mimetype": "text/x-python",
   "name": "python",
   "nbconvert_exporter": "python",
   "pygments_lexer": "ipython3",
   "version": "3.8.5"
  }
 },
 "nbformat": 4,
 "nbformat_minor": 4
}
