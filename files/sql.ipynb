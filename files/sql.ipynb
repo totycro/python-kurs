{
 "cells": [
  {
   "cell_type": "code",
   "execution_count": 4,
   "id": "e4986c5e",
   "metadata": {},
   "outputs": [],
   "source": [
    "import sqlite3"
   ]
  },
  {
   "cell_type": "code",
   "execution_count": 5,
   "id": "be2dd06e",
   "metadata": {},
   "outputs": [],
   "source": [
    "connection = sqlite3.connect('database.db')"
   ]
  },
  {
   "cell_type": "code",
   "execution_count": 6,
   "id": "8709bcd9",
   "metadata": {},
   "outputs": [],
   "source": [
    "cursor = connection.cursor()"
   ]
  },
  {
   "cell_type": "code",
   "execution_count": 10,
   "id": "de94adbb",
   "metadata": {},
   "outputs": [
    {
     "data": {
      "text/plain": [
       "<sqlite3.Cursor at 0x7fa6f935f810>"
      ]
     },
     "execution_count": 10,
     "metadata": {},
     "output_type": "execute_result"
    }
   ],
   "source": [
    "cursor.execute(\"CREATE TABLE Haustier(name TEXT, futtermenge INTEGER);\")"
   ]
  },
  {
   "cell_type": "code",
   "execution_count": 15,
   "id": "d417a6de",
   "metadata": {},
   "outputs": [
    {
     "data": {
      "text/plain": [
       "<sqlite3.Cursor at 0x7fa6f935f810>"
      ]
     },
     "execution_count": 15,
     "metadata": {},
     "output_type": "execute_result"
    }
   ],
   "source": [
    "cursor.execute(\"INSERT INTO Haustier(name, futtermenge) VALUES('Wuffi', 5);\")"
   ]
  },
  {
   "cell_type": "code",
   "execution_count": 19,
   "id": "884692b5",
   "metadata": {},
   "outputs": [
    {
     "data": {
      "text/plain": [
       "<sqlite3.Cursor at 0x7fa6f935f810>"
      ]
     },
     "execution_count": 19,
     "metadata": {},
     "output_type": "execute_result"
    }
   ],
   "source": [
    "cursor.execute(\"INSERT INTO Haustier(name, futtermenge) VALUES('Mauzi', 4);\")"
   ]
  },
  {
   "cell_type": "code",
   "execution_count": 35,
   "id": "a4c74813",
   "metadata": {},
   "outputs": [],
   "source": [
    "cursor.execute(\"SELECT name, futtermenge FROM Haustier\")\n",
    "result = cursor.fetchall()"
   ]
  },
  {
   "cell_type": "code",
   "execution_count": 37,
   "id": "662623f3",
   "metadata": {},
   "outputs": [
    {
     "data": {
      "text/plain": [
       "[('Wuffi', 5), ('Mauzi', 4)]"
      ]
     },
     "execution_count": 37,
     "metadata": {},
     "output_type": "execute_result"
    }
   ],
   "source": [
    "result"
   ]
  },
  {
   "cell_type": "code",
   "execution_count": null,
   "id": "ae746f76",
   "metadata": {},
   "outputs": [],
   "source": []
  },
  {
   "cell_type": "code",
   "execution_count": 9,
   "id": "009ff8e9",
   "metadata": {},
   "outputs": [
    {
     "data": {
      "text/plain": [
       "[('NAME', 'BEZIRK'),\n",
       " ('Augartenbrücke', 2),\n",
       " ('Nikolai Hangbrücke', 13),\n",
       " ('Friedensbrücke', 9),\n",
       " ('Kragtragwerk Hütteldorf', 14),\n",
       " ('Augartenbrücke', 2),\n",
       " ('Steinitzsteg', 20),\n",
       " ('Steinitzsteg', 20),\n",
       " ('Augartenbrücke', 2),\n",
       " ('Rettungstunnel AKH', 9)]"
      ]
     },
     "execution_count": 9,
     "metadata": {},
     "output_type": "execute_result"
    }
   ],
   "source": [
    "cursor.execute(\"SELECT NAME, BEZIRK FROM bruecken\").fetchall()[:10]"
   ]
  },
  {
   "cell_type": "code",
   "execution_count": 37,
   "id": "d3ccd56a",
   "metadata": {},
   "outputs": [
    {
     "data": {
      "text/plain": [
       "[('Augartenbrücke', 2, 'Leopoldstadt'),\n",
       " ('Nikolai Hangbrücke', 13, 'Hietzing'),\n",
       " ('Friedensbrücke', 9, 'Alsergrund'),\n",
       " ('Kragtragwerk Hütteldorf', 14, 'Penzing'),\n",
       " ('Augartenbrücke', 2, 'Leopoldstadt'),\n",
       " ('Steinitzsteg', 20, 'Brigittenau'),\n",
       " ('Steinitzsteg', 20, 'Brigittenau'),\n",
       " ('Augartenbrücke', 2, 'Leopoldstadt'),\n",
       " ('Rettungstunnel AKH', 9, 'Alsergrund'),\n",
       " ('Fuß- und Radwegsteg Komet', 15, 'Rudolfsheim-Fünfhaus')]"
      ]
     },
     "execution_count": 37,
     "metadata": {},
     "output_type": "execute_result"
    }
   ],
   "source": [
    "cursor.execute(\"\"\"\n",
    "select bruecken.NAME, bruecken.BEZIRK, bezirke.Name FROM bruecken INNER JOIN bezirke ON bruecken.BEZIRK = bezirke.Nummer ;\n",
    "\"\"\").fetchall()[:10]"
   ]
  },
  {
   "cell_type": "code",
   "execution_count": null,
   "id": "11d2f3eb",
   "metadata": {},
   "outputs": [],
   "source": []
  }
 ],
 "metadata": {
  "kernelspec": {
   "display_name": "Python 3",
   "language": "python",
   "name": "python3"
  },
  "language_info": {
   "codemirror_mode": {
    "name": "ipython",
    "version": 3
   },
   "file_extension": ".py",
   "mimetype": "text/x-python",
   "name": "python",
   "nbconvert_exporter": "python",
   "pygments_lexer": "ipython3",
   "version": "3.9.5"
  }
 },
 "nbformat": 4,
 "nbformat_minor": 5
}
