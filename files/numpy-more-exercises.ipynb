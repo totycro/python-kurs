{
 "cells": [
  {
   "cell_type": "markdown",
   "metadata": {},
   "source": [
    "<small>MIT License - Copyright (c) 2020 University of Natural Resources and Life Sciences, Vienna (BOKU)</small>"
   ]
  },
  {
   "cell_type": "markdown",
   "metadata": {},
   "source": [
    "# Exercise 1 - Terminology\n",
    "\n",
    "Describe the following terms with your own words:\n",
    "\n",
    "***boolean array:***\n",
    "\n",
    "***shape:***\n",
    "\n",
    "***axis:***\n",
    "\n",
    "Answer the following questions:\n",
    "\n",
    "***Which ways are there to select one or more elements from a Numpy array?***\n",
    "\n",
    "***What is the difference between Numpy and Scipy?***"
   ]
  },
  {
   "cell_type": "markdown",
   "metadata": {},
   "source": [
    "# Exercise 2 - Create a diagonal matrix\n",
    "\n",
    "Create a matrix `m` with shape `(4, 4)` by using `np.zeros()` and set the 4 diagonal elements to `1` by using indexing using `np.arange()`. Do not use more than two assign statements in total for this exercise!\n",
    "\n",
    "Bonus: Find multiple ways to avoid calling `np.arange()` twice and analyze which is the best regarding readability!\n",
    "\n",
    "Note: Normally you would use `np.diag()` to do this. You can also have a look into the code using `np.diag??`, but it's probably easier to write your own implementation (which might be less generic and slower, but way simpler)."
   ]
  },
  {
   "cell_type": "code",
   "execution_count": 0,
   "metadata": {},
   "outputs": [],
   "source": []
  },
  {
   "cell_type": "markdown",
   "metadata": {},
   "source": [
    "# Exercise 3 - Invasion\n",
    "\n",
    "Create a canvas using `np.zeros()` of shape `(8, 11)`. Then set the following elements to one using fancy slicing techniques:\n",
    "\n",
    " - Rows 4 and 5 completely.\n",
    " - In row 3 all elements except the first one.\n",
    " - In row 2 all elements except the first two ones.\n",
    " - The two elements defined by: `row_idcs, column_idcs = [0, 1], [2, 3]`\n",
    " - In row 6 the elements in column 0 and 2.\n",
    " - In row 7 all elements except the first three and the last three.\n",
    " \n",
    "And then afterwards the following elements to zero:\n",
    " - The three elements defined by: `row_idcs, column_idcs = [3, 5, 7], [3, 1, 5]`\n",
    "\n",
    "As a last step, assign the content of the first five columns to the last five columns in reversed order. This can be done by using a `step=-1` and starting with 4, i.e. the first five columns in reversed order are indexed by `canvas[:, 4::-1]`.\n",
    "\n",
    "Then plot the canvas using `plt.imshow()` with the parameter `cmap='gray'`!\n",
    "\n",
    "**Hint:** it helps a lot to have all commands in one cell (including the `imshow()` command) and execute the cell often, to check the result.\n",
    "\n",
    "**Note:** When ever the instruction says \"first element\" it is something like `x[0]`, because it refers to the first one in the array. If it is column 1 or row 1 it is `x[1]`, because it refers then to the index of the column/row.\n",
    "\n",
    "**Note:** It is `canvas[row_index, column_index]`, so if you are thinking in x/y coordinates, it is `canvas[y, x]` and the y axis goes downwards."
   ]
  },
  {
   "cell_type": "code",
   "execution_count": 0,
   "metadata": {},
   "outputs": [],
   "source": []
  },
  {
   "cell_type": "code",
   "execution_count": 0,
   "metadata": {},
   "outputs": [],
   "source": [
    "# check your code by running this cell!\n",
    "assert np.sum(space_invader) == 46\n",
    "assert space_invader.diagonal().sum() == 4\n",
    "assert space_invader.shape == (8, 11)"
   ]
  },
  {
   "cell_type": "markdown",
   "metadata": {},
   "source": [
    "# Exercise 4 - Interpolation\n",
    "\n",
    "Create a `grid` using `np.linspace()` between 1961 and 1973 with `num=37` points. Then use `interp1d()` from `scipy.interpolate` to interpolate the temperature values on the grid.\n",
    "\n",
    "Plot the interpolated values and the grid using the parameter `'o-'`. Also plot the original dataset in a second plot and compare the plots.\n",
    "\n",
    "Read the documentation for `np.interp()` - what is the difference to `scipy.interpolate.interp1d()`?\n",
    "\n",
    "Note: The parameter 'o-' sets the marker style to _bullet_ and line style to _line_.\n",
    "\n",
    "<small>Data source: https://www.wien.gv.at/statistik/wetter/</small>"
   ]
  },
  {
   "cell_type": "code",
   "execution_count": 0,
   "metadata": {},
   "outputs": [],
   "source": [
    "years = [1961, 1962, 1963, 1964, 1965, 1966, 1967, 1968, 1969, 1970, 1971, 1972, 1973]\n",
    "mean_temperature_celsius = [10.2, 8.6, 8.7, 9.1, 8.6, 10.1, 10.2, 9.7, 9.2, 9.2, 9.8, 9.3, 9.6]"
   ]
  },
  {
   "cell_type": "code",
   "execution_count": 0,
   "metadata": {},
   "outputs": [],
   "source": []
  },
  {
   "cell_type": "markdown",
   "metadata": {},
   "source": [
    "# Exercise 5 - Draw a circle (optional bonus exercise)\n",
    "\n",
    "Note: to solve this exercise, you will need to work through the bonus material in the second sheet in the notebook for lecture 5. We will probably not have time to discuss this in detail in the lecture.\n",
    "\n",
    "Draw a full circle: first define a resolution e.g. $N=50$. Then define coordinates $x$ and $y$ using `np.linspace()` and pass the resolution as parameter `num=N`. Use `np.meshgrid()` to define a grid `xx` and `yy`. Define a canvas of shape `(N, N)` using `np.zeros()`. Then use the circle formula $x^2 + y^2 < r^2$ to define all circle points on the grid (use $r=2$). Then use the boolean 2D expression to set the inside of the circle to 1. Finally plot the canvas using `imshow()`."
   ]
  },
  {
   "cell_type": "code",
   "execution_count": 0,
   "metadata": {},
   "outputs": [],
   "source": []
  },
  {
   "cell_type": "markdown",
   "metadata": {},
   "source": [
    "# Exercise 6 - Frequency of grays (optional bonus exercise)\n",
    "\n",
    "Convert the picture `numpy-meme.png` to gray scale and plot a histogram!\n",
    "\n",
    "**Instructions:** Load the image by using `plt.imread()`. This will return a three dimensional array (width, height and colors) with values between zero and one. Using the formula `gray = red * 0.2125 + green * 0.7154 + blue * 0.0721`, convert the picture to shades of gray. Look at the shape of the image and pick the right axis by looking at the length of the array in this axis! You can first calculate a weighted version of the array by multiplying with a vector of length 3 (and the three weights) and then sum along the right axis. Check the shape of the gray image afterwards and plot it using `plt.imshow()` with the parameter `cmap='gray'`. It should be only two dimensional now. Use `image_gray.flatten()` to get all pixels as one-dimensional vector and pass this to the function `plt.hist()` with the parameter `bins=50` to get 50 bins with different gray values."
   ]
  },
  {
   "cell_type": "code",
   "execution_count": 0,
   "metadata": {},
   "outputs": [],
   "source": [
    "# workaround: Datalore does not allow to publish attached files, so we have to download it.\n",
    "import urllib\n",
    "import os.path\n",
    "\n",
    "fname = 'numpy-meme.png'\n",
    "\n",
    "if not os.path.exists(fname):\n",
    "    URI = 'https://bokubox.boku.ac.at/index.php/get/b9ba31116382cf31794d2a2ec878ec1f/numpy-meme.png'\n",
    "    urllib.request.urlretrieve(URI, filename=fname)"
   ]
  },
  {
   "cell_type": "code",
   "execution_count": 0,
   "metadata": {},
   "outputs": [],
   "source": []
  },
  {
   "cell_type": "code",
   "execution_count": 0,
   "metadata": {},
   "outputs": [],
   "source": [
    "# check your code by running this cell!\n",
    "assert round(image_gray.sum()) == 155297"
   ]
  },
  {
   "cell_type": "markdown",
   "metadata": {},
   "source": [
    "# Exercise 7 - Count colors (optional bonus exercise)\n",
    "\n",
    "Calculate the number of colors used in the picture `numpy-meme.png` and the percentage of the color space (3 x 8bit, i.e. 256 values per color) used!\n",
    "\n",
    "**Instructions:** Load the image by using `plt.imread()`. This will return a three dimensional array (width, height and colors) with values between zero and one. Multiplying the array with 255 will restore the original 8bit values (integer values between 0 and 255). After multiplying by 255 use `image = image.astype(int)` to convert the image to integer type. Plot the `image` using `plt.imshow()` to see the image and guess the result. Check the shape of the array. One of the axes is of length three - this is the color axis (red, green and blue). We want to map all colors to unique integers. This can be done by defining `colors = red  + green * 256 + blue * 256**2`. This is a unique mapping between the triples `(red, green, blue)` and the integers `color` similar to decimal digits (three values between 0 and 9 e.g. `(3, 5, 1)` can be mapped to a three digit number `3 + 5 * 10 + 1 * 100 = 153`). Then use `np.unique()` to get an array with unique colors (in the mapped form as in `color`). This can be used to determine the number of unique colors in the image. This value can also be used to calculate the percentage of the color space used.\n",
    "\n",
    "<small>Image source: https://me.me/i/1-import-numpy-1-import-numpy-as-np-there-is-e4a6fb9cf75b413dbb3154794fd3d603</small>\n",
    "\n",
    "Inspired by [this exercise](https://github.com/rougier/numpy-100/blob/master/100_Numpy_exercises_with_solutions.md#66-considering-a-wh3-image-of-dtypeubyte-compute-the-number-of-unique-colors-) (MIT licensed, [DOI](https://zenodo.org/badge/latestdoi/10173/rougier/numpy-100))"
   ]
  },
  {
   "cell_type": "code",
   "execution_count": 0,
   "metadata": {},
   "outputs": [],
   "source": [
    "# workaround: Datalore does not allow to publish attached files, so we have to download it.\n",
    "import urllib\n",
    "import os.path\n",
    "\n",
    "fname = 'numpy-meme.png'\n",
    "\n",
    "if not os.path.exists(fname):\n",
    "    URI = 'https://bokubox.boku.ac.at/index.php/get/b9ba31116382cf31794d2a2ec878ec1f/numpy-meme.png'\n",
    "    urllib.request.urlretrieve(URI, filename=fname)"
   ]
  },
  {
   "cell_type": "code",
   "execution_count": 0,
   "metadata": {},
   "outputs": [],
   "source": []
  },
  {
   "cell_type": "code",
   "execution_count": 0,
   "metadata": {},
   "outputs": [],
   "source": [
    "# check your code by running this cell!\n",
    "assert unique_colors_used == 258\n",
    "np.testing.assert_almost_equal(share_of_color_space_used, 0.0015377998352050781)"
   ]
  },
  {
   "cell_type": "markdown",
   "metadata": {},
   "source": [
    "# Exercise 8 - Rotate and plot points in 2D (optional bonus exercise)\n",
    "\n",
    "Plot the 5 points in 2D defined in the array `points`, then rotate the points by 90 degrees by performing a matrix multiplication with a [rotation matrix](https://en.wikipedia.org/wiki/Rotation_matrix) by using `rotation_matrix @ points` and plot the result in the same plot. The rotation angle needs to be converted to radians before it is passed to `np.cos()` and `np.sin()`, use `np.radians(90)` to do so."
   ]
  },
  {
   "cell_type": "code",
   "execution_count": 0,
   "metadata": {},
   "outputs": [],
   "source": [
    "import numpy as np\n",
    "import matplotlib.pyplot as plt\n",
    "\n",
    "points = np.array([[0, 0],\n",
    "                   [1, 1],\n",
    "                   [-1, -1],\n",
    "                   [0, 1],\n",
    "                   [0, 0.7],\n",
    "                  ]).T"
   ]
  }
 ],
 "metadata": {
  "kernelspec": {
   "display_name": "Python 3",
   "language": "python",
   "name": "python3"
  },
  "language_info": {
   "codemirror_mode": {
    "name": "ipython",
    "version": 3
   },
   "file_extension": ".py",
   "mimetype": "text/x-python",
   "name": "python",
   "nbconvert_exporter": "python",
   "pygments_lexer": "ipython3",
   "version": "3.8.5"
  }
 },
 "nbformat": 4,
 "nbformat_minor": 1
}
