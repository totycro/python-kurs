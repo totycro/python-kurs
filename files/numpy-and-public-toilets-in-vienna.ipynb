{
 "cells": [
  {
   "cell_type": "code",
   "execution_count": null,
   "metadata": {},
   "outputs": [],
   "source": [
    "import numpy as np\n",
    "import matplotlib\n",
    "import matplotlib.pyplot as plt"
   ]
  },
  {
   "cell_type": "code",
   "execution_count": null,
   "metadata": {},
   "outputs": [],
   "source": [
    "# matplotlib.rc('figure', figsize=(10, 8))"
   ]
  },
  {
   "cell_type": "code",
   "execution_count": null,
   "metadata": {},
   "outputs": [],
   "source": [
    "# workaround: Datalore does not allow to publish attached files, so we have to download it.\n",
    "def download_attached_files():\n",
    "    import urllib\n",
    "    import os.path\n",
    "    fnames = {\n",
    "              'numpy_broadcasting.png': 'https://bokubox.boku.ac.at/index.php/get/bd4ed8ee3a75609c0842f1df51a0e621/numpy_broadcasting.png',\n",
    "              'vienna-map.png': 'https://bokubox.boku.ac.at/index.php/get/5ff5ff2e14b6c0646feb6eaa68818508/vienna-map.png',\n",
    "              'numpy-logo.png': 'https://bokubox.boku.ac.at/index.php/get/c12a5bd4af931a423bf03570dfa15683/numpy-logo.png',\n",
    "              'list-of-lists.svg': 'https://bokubox.boku.ac.at/index.php/get/6cf629b20b9a6fc719e73bbb1db6a504/list-of-lists.svg',\n",
    "              'python-scientific-ecosystem.png': 'https://bokubox.boku.ac.at/index.php/get/a92ec98e63593541304702e1bf6d91c5/python-scientific-ecosystem.png',\n",
    "              'benchmarks.svg': 'https://bokubox.boku.ac.at/index.php/get/7c908baa0f2a54008e62984c0cc51bf8/benchmarks.svg',\n",
    "    }\n",
    "    for fname, url in fnames.items():\n",
    "        if not os.path.exists(fname):\n",
    "            urllib.request.urlretrieve(url, filename=fname)\n",
    "\n",
    "download_attached_files()"
   ]
  },
  {
   "cell_type": "code",
   "execution_count": null,
   "metadata": {},
   "outputs": [],
   "source": []
  },
  {
   "cell_type": "code",
   "execution_count": null,
   "metadata": {},
   "outputs": [],
   "source": []
  },
  {
   "cell_type": "code",
   "execution_count": null,
   "metadata": {},
   "outputs": [],
   "source": []
  },
  {
   "cell_type": "markdown",
   "metadata": {},
   "source": [
    "<div style=\"float:right;\">\n",
    "Peter Regner<br>\n",
    "</div>\n",
    "\n",
    "<div style=\"float:left;\">\n",
    "2021-05-17\n",
    "</div>\n",
    "\n",
    "<div style=\"font-size:2.5em;text-align:center;font-weight:bolder;margin-bottom:12em;\">Numpy and Public toilets in Vienna</div>\n",
    "\n",
    "<small>MIT License - Copyright (c) 2020 University of Natural Resources and Life Sciences, Vienna (BOKU)</small>"
   ]
  },
  {
   "cell_type": "code",
   "execution_count": null,
   "metadata": {},
   "outputs": [],
   "source": [
    "# workaround: https://datalore-forum.jetbrains.com/t/image-in-markdown-doesnt-display-when-published/745/4\n",
    "from IPython.display import Image; Image(filename='numpy-logo.png', width=700)"
   ]
  },
  {
   "cell_type": "markdown",
   "metadata": {},
   "source": [
    "# Who I am\n",
    "\n",
    "Peter Regner <peter.regner@boku.ac.at>\n",
    "* PhD student at the Institute for Sustainable Economic Development\n",
    "* Worked almost 7 years as Python developer in semiconductor industry\n",
    "* Studied mathematics at TU Wien"
   ]
  },
  {
   "cell_type": "markdown",
   "metadata": {},
   "source": [
    "# The ndarray data type"
   ]
  },
  {
   "cell_type": "code",
   "execution_count": null,
   "metadata": {},
   "outputs": [],
   "source": [
    "import numpy as np"
   ]
  },
  {
   "cell_type": "code",
   "execution_count": null,
   "metadata": {},
   "outputs": [],
   "source": [
    "np.array([1., 2., 5.])"
   ]
  },
  {
   "cell_type": "markdown",
   "metadata": {},
   "source": [
    "**Warning:** confusingly `np.array([1., 2., 5.])` is used to create an array, but the type of the resulting object is `np.ndarray`!\n",
    "\n",
    "Do not use `np.ndarray()` to create a new `ndarray` object, use `np.array()`!"
   ]
  },
  {
   "cell_type": "code",
   "execution_count": null,
   "metadata": {},
   "outputs": [],
   "source": [
    "type(np.array([1., 2., 5.]))"
   ]
  },
  {
   "cell_type": "code",
   "execution_count": null,
   "metadata": {},
   "outputs": [],
   "source": [
    "arbitrary_values = np.array([1., 2., 5.])"
   ]
  },
  {
   "cell_type": "markdown",
   "metadata": {},
   "source": [
    "# Elementwise operations and broadcasting"
   ]
  },
  {
   "cell_type": "markdown",
   "metadata": {},
   "source": [
    "Recall, Python list cannot be used for airthemtical calculations directly:"
   ]
  },
  {
   "cell_type": "code",
   "execution_count": null,
   "metadata": {},
   "outputs": [],
   "source": [
    "[1, 2, 3] + 10"
   ]
  },
  {
   "cell_type": "code",
   "execution_count": null,
   "metadata": {},
   "outputs": [],
   "source": [
    "np.array([1, 2, 3]) + 10"
   ]
  },
  {
   "cell_type": "code",
   "execution_count": null,
   "metadata": {},
   "outputs": [],
   "source": [
    "np.array([1, 2, 3]) * 10"
   ]
  },
  {
   "cell_type": "code",
   "execution_count": null,
   "metadata": {},
   "outputs": [],
   "source": [
    "np.arange(5)"
   ]
  },
  {
   "cell_type": "code",
   "execution_count": null,
   "metadata": {},
   "outputs": [],
   "source": [
    "np.arange(5)**2"
   ]
  },
  {
   "cell_type": "code",
   "execution_count": null,
   "metadata": {},
   "outputs": [],
   "source": [
    "np.cos(np.arange(5) * 2 * np.pi)"
   ]
  },
  {
   "cell_type": "markdown",
   "metadata": {},
   "source": [
    "## Exercise 1\n",
    "\n",
    "A user wants to add 0.5 to 4 values. There is a mistake in the code - find and fix it!\n",
    "\n",
    "Why does the code not work as written here? Check the docstring of `np.array` to find an answer!"
   ]
  },
  {
   "cell_type": "code",
   "execution_count": null,
   "metadata": {},
   "outputs": [],
   "source": [
    "np.array(1, 2, 3, 42) + 0.5"
   ]
  },
  {
   "cell_type": "markdown",
   "metadata": {},
   "source": [
    "## Exercise 2\n",
    "\n",
    "Generate a list with numbers 0.5, 1.5, 2.5, ..., 9.5!\n",
    "\n",
    "This exercise is identical with exercise 3 from lecture 2. This time, you are allowed to use numpy. Compare the solutions! Which code is easier to read?"
   ]
  },
  {
   "cell_type": "code",
   "execution_count": null,
   "metadata": {},
   "outputs": [],
   "source": []
  },
  {
   "cell_type": "markdown",
   "metadata": {},
   "source": [
    "## Exercise 3\n",
    "\n",
    "Plot $\\sin(x)$ and $\\cos(4x)$ from -2 to 4.5. Use the function `np.linspace(start, stop)` to generate values for `x`.\n",
    "\n",
    "The result should be two lines, one should be the graph of $\\sin(x)$ and one the graph of $\\cos(4x)$.\n",
    "\n",
    "*Hint:* Use the functions `np.sin(x)` and `np.cos(x)`.\n",
    "\n",
    "<br>\n",
    "\n",
    "**Bonus task:**\n",
    "\n",
    "Plot a line defined by points with coordinates $\\cos(x)$ on the x axis and $\\sin(x)$ on the y axis for x in the range $[0, 2\\pi]$. Can you guess the result before actually plotting it?\n",
    "\n",
    "Note: this is not a function $f(x)$ in the mathematical sense of functions, where each value x is mapped to some value $f(x)$.\n",
    "\n",
    "You can use this additional matplotlib call to make it look more nice: `plt.gca().set_aspect('equal')`"
   ]
  },
  {
   "cell_type": "code",
   "execution_count": null,
   "metadata": {},
   "outputs": [],
   "source": []
  },
  {
   "cell_type": "markdown",
   "metadata": {},
   "source": [
    "# Accessing elements in Numpy arrays"
   ]
  },
  {
   "cell_type": "code",
   "execution_count": null,
   "metadata": {},
   "outputs": [],
   "source": [
    "arbitrary_values"
   ]
  },
  {
   "cell_type": "code",
   "execution_count": null,
   "metadata": {},
   "outputs": [],
   "source": [
    "arbitrary_values[2]"
   ]
  },
  {
   "cell_type": "code",
   "execution_count": null,
   "metadata": {},
   "outputs": [],
   "source": [
    "arbitrary_values[2:]"
   ]
  },
  {
   "cell_type": "code",
   "execution_count": null,
   "metadata": {},
   "outputs": [],
   "source": [
    "arbitrary_values[0:2]"
   ]
  },
  {
   "cell_type": "code",
   "execution_count": null,
   "metadata": {},
   "outputs": [],
   "source": [
    "arbitrary_values[:]"
   ]
  },
  {
   "cell_type": "markdown",
   "metadata": {},
   "source": [
    "# Dimensions and shape\n",
    "\n",
    "Numpy arrays can be multidimensional. They are created by passing a list of lists to `np.array()`:"
   ]
  },
  {
   "cell_type": "code",
   "execution_count": null,
   "metadata": {},
   "outputs": [],
   "source": [
    "unity_matrix = np.array([[1., 0., 0.],\n",
    "                         [0., 1., 0.],\n",
    "                         [0., 0., 1.]])"
   ]
  },
  {
   "cell_type": "markdown",
   "metadata": {},
   "source": [
    "Lists are always one-dimensional, but 2D objects can be created by putting lists in lists:"
   ]
  },
  {
   "cell_type": "code",
   "execution_count": null,
   "metadata": {},
   "outputs": [],
   "source": [
    "# workaround: https://datalore-forum.jetbrains.com/t/image-in-markdown-doesnt-display-when-published/745/4\n",
    "from IPython.display import SVG; SVG(filename='list-of-lists.svg')"
   ]
  },
  {
   "cell_type": "markdown",
   "metadata": {},
   "source": [
    "A numpy array can be 2D itself, without nesting objects."
   ]
  },
  {
   "cell_type": "code",
   "execution_count": null,
   "metadata": {},
   "outputs": [],
   "source": [
    "unity_matrix.shape"
   ]
  },
  {
   "cell_type": "code",
   "execution_count": null,
   "metadata": {},
   "outputs": [],
   "source": [
    "unity_matrix[2, 2]"
   ]
  },
  {
   "cell_type": "code",
   "execution_count": null,
   "metadata": {},
   "outputs": [],
   "source": [
    "unity_matrix[2, :]"
   ]
  },
  {
   "cell_type": "code",
   "execution_count": null,
   "metadata": {},
   "outputs": [],
   "source": [
    "len(unity_matrix)"
   ]
  },
  {
   "cell_type": "code",
   "execution_count": null,
   "metadata": {},
   "outputs": [],
   "source": [
    "arbitrary_values.shape"
   ]
  },
  {
   "cell_type": "markdown",
   "metadata": {},
   "source": [
    "# The Python Scientific Ecosystem\n",
    "\n",
    "<!-- <br>\n",
    "<div style=\"text-align:center\">\n",
    "<img alt=\"Python scientific ecosystem\" src=\"python-scientific-ecosystem.png\" style=\"height:650px;\">\n",
    "</div> -->\n"
   ]
  },
  {
   "cell_type": "code",
   "execution_count": null,
   "metadata": {},
   "outputs": [],
   "source": [
    "# workaround: https://datalore-forum.jetbrains.com/t/image-in-markdown-doesnt-display-when-published/745/4\n",
    "from IPython.display import Image; Image(filename='python-scientific-ecosystem.png', width=700)"
   ]
  },
  {
   "cell_type": "markdown",
   "metadata": {},
   "source": [
    "<small>Source: https://speakerdeck.com/jakevdp/the-state-of-the-stack-scipy-2015-keynote?slide=8</small>"
   ]
  },
  {
   "cell_type": "markdown",
   "metadata": {},
   "source": [
    "# Why numpy? Performance!\n",
    "\n",
    "One reason for using Numpy instead of pure Python is performance. \n",
    "\n",
    "<!-- <img src=\"benchmarks.svg\" style=\"width:750px\"> -->"
   ]
  },
  {
   "cell_type": "code",
   "execution_count": null,
   "metadata": {},
   "outputs": [],
   "source": [
    "# workaround: https://datalore-forum.jetbrains.com/t/image-in-markdown-doesnt-display-when-published/745/4\n",
    "from IPython.display import SVG; SVG(filename='benchmarks.svg')"
   ]
  },
  {
   "cell_type": "markdown",
   "metadata": {},
   "source": [
    "\n",
    "\n",
    "<small>Note that this comparison is not very fair. The Python tests are mostly done with pure Python. One can easily speed-up tests by using numpy or other libraries. Adding ``@numba.jit`` to the Fibonacci test causes a speed up of factor 50 (tested with $n=30$).</small>\n",
    "\n",
    "<small>Source: https://julialang.org/benchmarks/</small>"
   ]
  },
  {
   "cell_type": "markdown",
   "metadata": {},
   "source": [
    "Also: vector and matrix operations are way simpler to write, many numerical algorithms implemented"
   ]
  },
  {
   "cell_type": "markdown",
   "metadata": {},
   "source": [
    "## How fast is Numpy in comparison to pure Python?"
   ]
  },
  {
   "cell_type": "code",
   "execution_count": null,
   "metadata": {},
   "outputs": [],
   "source": [
    "numbers = list(range(10**6))"
   ]
  },
  {
   "cell_type": "code",
   "execution_count": null,
   "metadata": {},
   "outputs": [],
   "source": [
    "%timeit sum(numbers)"
   ]
  },
  {
   "cell_type": "code",
   "execution_count": null,
   "metadata": {},
   "outputs": [],
   "source": [
    "numbers_np = np.array(numbers)"
   ]
  },
  {
   "cell_type": "code",
   "execution_count": null,
   "metadata": {},
   "outputs": [],
   "source": [
    "%timeit numbers_np.sum()"
   ]
  },
  {
   "cell_type": "markdown",
   "metadata": {},
   "source": [
    "A factor 10 speedup comes usually for free with good simple code, but sometimes a speedup factor of 500 is also not uncommon."
   ]
  },
  {
   "cell_type": "markdown",
   "metadata": {},
   "source": [
    "# Summary: use Numpy for faster and easier computations with gridded data\n",
    "\n",
    "Numpy makes calcuations with gridded data:\n",
    "- faster\n",
    "- easier\n",
    "\n",
    "Also there are plenty of common functions available (mean, cosine, sine, filters, ...)."
   ]
  },
  {
   "cell_type": "code",
   "execution_count": null,
   "metadata": {},
   "outputs": [],
   "source": [
    "# workaround: https://datalore-forum.jetbrains.com/t/image-in-markdown-doesnt-display-when-published/745/4\n",
    "from IPython.display import SVG; SVG(filename='list-of-lists.svg')"
   ]
  },
  {
   "cell_type": "markdown",
   "metadata": {},
   "source": [
    "Non-gridded data doesn't work very well with Numpy:\n",
    "\n",
    "Imagine somebody wants to collect the age of each person infected with Covid-19 for each day. One could use a list of lists, i.e. a Python list where each element is a list of integers:"
   ]
  },
  {
   "cell_type": "code",
   "execution_count": null,
   "metadata": {},
   "outputs": [],
   "source": [
    "infected_age_per_day = [\n",
    "    [16, 41],\n",
    "    [73],\n",
    "    [40, 24, 83, 29],\n",
    "    [],\n",
    "    [64, 13],    \n",
    "]"
   ]
  },
  {
   "cell_type": "code",
   "execution_count": null,
   "metadata": {},
   "outputs": [],
   "source": [
    "infected_age_per_day[2]"
   ]
  },
  {
   "cell_type": "markdown",
   "metadata": {},
   "source": [
    "The number of infected person varies, so this is not a regular array with rectangular shape.\n",
    "\n",
    "One can convert the this lists of lists to a `numpy` array, but it is of dtype `object` and not `int`. This should be avoided!"
   ]
  },
  {
   "cell_type": "code",
   "execution_count": null,
   "metadata": {},
   "outputs": [],
   "source": [
    "np.array(infected_age_per_day)"
   ]
  },
  {
   "cell_type": "markdown",
   "metadata": {},
   "source": [
    "Instead we can convert this to a gridded array, if we add a new row for each infected person. In the first column there is a value indicating the day of infection and in the section the age of the person:"
   ]
  },
  {
   "cell_type": "code",
   "execution_count": null,
   "metadata": {},
   "outputs": [],
   "source": [
    "infected_day_age = [\n",
    "    [0, 16],\n",
    "    [0, 41],\n",
    "    [1, 73],\n",
    "    [2, 40],\n",
    "    [2, 24],\n",
    "    [2, 83],\n",
    "    [2, 29],\n",
    "    [4, 64],\n",
    "    [4, 13],    \n",
    "]\n",
    "np.array(infected_day_age)"
   ]
  },
  {
   "cell_type": "markdown",
   "metadata": {},
   "source": [
    "## Exercise 4 - Create a matrix with ones surrounded by zeros \n",
    "\n",
    "Create a matrix `m` with shape `(4, 4)` by using `np.zeros()` and set the inner 4 elements to `1` by using slicing in axis 0 and axis 1. Do not use more two assign statements in total for this exercise!"
   ]
  },
  {
   "cell_type": "code",
   "execution_count": null,
   "metadata": {},
   "outputs": [],
   "source": []
  },
  {
   "cell_type": "markdown",
   "metadata": {},
   "source": [
    "# Let's do something with real data\n",
    "\n",
    "Public toilets in Vienna:\n",
    "https://www.data.gv.at/katalog/dataset/d9f5e582-3773-4f0b-8403-5d34718f6cf7"
   ]
  },
  {
   "cell_type": "markdown",
   "metadata": {},
   "source": [
    "Note: we use the order (longitude, latitude) here. This is the order used in shape files and necessary for plotting too."
   ]
  },
  {
   "cell_type": "code",
   "execution_count": null,
   "metadata": {},
   "outputs": [],
   "source": [
    "import urllib\n",
    "import os.path\n",
    "from pathlib import Path\n",
    "import pandas as pd\n",
    "\n",
    "def read_public_toilets():\n",
    "    \"\"\"Download CSV with geocordinates of public toilets in Vienna, parse it and return a numpy\n",
    "    array of shape (N,2), where each point is (longitude_x, latitude_y).\"\"\"\n",
    "    fname = 'public-toilets.csv'\n",
    "    if not os.path.exists(fname):\n",
    "        URI = ('https://data.wien.gv.at/daten/geo?'\n",
    "               'service=WFS&request=GetFeature&version=1.1.0&'\n",
    "               'typeName=ogdwien:WCANLAGEOGD&srsName=EPSG:4326&outputFormat=csv')\n",
    "        urllib.request.urlretrieve(URI, filename=fname)\n",
    "        \n",
    "    d = pd.read_csv(fname)\n",
    "    return d.SHAPE.str.extract(r'POINT \\((\\d+\\.\\d+) (\\d+\\.\\d+)\\)').astype(float).values"
   ]
  },
  {
   "cell_type": "code",
   "execution_count": null,
   "metadata": {},
   "outputs": [],
   "source": [
    "public_toilets = read_public_toilets()"
   ]
  },
  {
   "cell_type": "code",
   "execution_count": null,
   "metadata": {},
   "outputs": [],
   "source": [
    "public_toilets.shape"
   ]
  },
  {
   "cell_type": "code",
   "execution_count": null,
   "metadata": {},
   "outputs": [],
   "source": [
    "public_toilets[:5]"
   ]
  },
  {
   "cell_type": "code",
   "execution_count": null,
   "metadata": {},
   "outputs": [],
   "source": [
    "stephansplatz = np.array([16.372223, 48.208432])"
   ]
  },
  {
   "cell_type": "code",
   "execution_count": null,
   "metadata": {},
   "outputs": [],
   "source": [
    "# Length of one degree longitude/latitude on stephansplatz:\n",
    "LON_TO_KM = 74.1\n",
    "LAT_TO_KM = 111.19"
   ]
  },
  {
   "cell_type": "markdown",
   "metadata": {},
   "source": [
    "Doing calculations with longitude/latitude is difficult. Let's project the points to Cartesian coordinates in kilometers with origin at the Stephansplatz. Of course this it's not very accurate to project longitude/latitude that way, but for a small area like Vienna it should be good enough:"
   ]
  },
  {
   "cell_type": "code",
   "execution_count": null,
   "metadata": {},
   "outputs": [],
   "source": [
    "def to_km(locations):\n",
    "    return (locations - stephansplatz) * [LON_TO_KM, LAT_TO_KM]"
   ]
  },
  {
   "cell_type": "code",
   "execution_count": null,
   "metadata": {},
   "outputs": [],
   "source": [
    "public_toilets_km = to_km(public_toilets)"
   ]
  },
  {
   "cell_type": "code",
   "execution_count": null,
   "metadata": {},
   "outputs": [],
   "source": [
    "public_toilets_km[:5]"
   ]
  },
  {
   "cell_type": "markdown",
   "metadata": {},
   "source": [
    "**This is not a good way how to work with maps for larger areas, even if it works reasonably well on small scale. This is just an example of how to use Numpy!**"
   ]
  },
  {
   "cell_type": "markdown",
   "metadata": {},
   "source": [
    "# Numpy broadcasting rules\n",
    "\n",
    "<!-- broken in Datalore, see cell below\n",
    "<img src=\"numpy_broadcasting.png\" width=\"800\">\n",
    "-->\n",
    "\n",
    "<small>\n",
    "Source: [scipy lecture notes](http://scipy-lectures.org/intro/numpy/operations.html#broadcasting) (CC-BY 4.0)\n",
    "</small>"
   ]
  },
  {
   "cell_type": "code",
   "execution_count": null,
   "metadata": {},
   "outputs": [],
   "source": [
    "# workaround: https://datalore-forum.jetbrains.com/t/image-in-markdown-doesnt-display-when-published/745/4\n",
    "from IPython.display import Image; Image(filename='numpy_broadcasting.png', width=700)"
   ]
  },
  {
   "cell_type": "markdown",
   "metadata": {},
   "source": []
  },
  {
   "cell_type": "markdown",
   "metadata": {},
   "source": [
    "- operations with Numpy are (mostly) elementwise.\n",
    "- if the shape does not match, the smaller array is duplicated along missing axis"
   ]
  },
  {
   "cell_type": "markdown",
   "metadata": {},
   "source": [
    "    A      (2d array):  5 x 4\n",
    "    B      (1d array):      1\n",
    "    Result (2d array):  5 x 4\n",
    "\n",
    "    A      (2d array):  5 x 4\n",
    "    B      (1d array):      4\n",
    "    Result (2d array):  5 x 4\n",
    "\n",
    "    A      (3d array):  15 x 3 x 5\n",
    "    B      (3d array):  15 x 1 x 5\n",
    "    Result (3d array):  15 x 3 x 5\n",
    "\n",
    "Full documentation:\n",
    "https://docs.scipy.org/doc/numpy/user/basics.broadcasting.html"
   ]
  },
  {
   "cell_type": "markdown",
   "metadata": {},
   "source": [
    "**Hint:** With more than two dimensions things get a bit confusing. Consider using the library `xarray` if you need that often!"
   ]
  },
  {
   "cell_type": "markdown",
   "metadata": {},
   "source": [
    "Ok, so can we plot our data set to get a better overview?"
   ]
  },
  {
   "cell_type": "code",
   "execution_count": null,
   "metadata": {},
   "outputs": [],
   "source": [
    "plt.plot(public_toilets_km.T[0], public_toilets_km.T[1], 'ko', markersize=3, label='Public toilet')\n",
    "plt.plot([0], [0], 'P', label='Stephansplatz', color='chocolate')\n",
    "\n",
    "plt.gca().set_aspect('equal')\n",
    "plt.legend()\n",
    "plt.title('Map of public toilets in Vienna')\n",
    "plt.xlabel('Longitude [km]')\n",
    "plt.ylabel('Latitude[km]')\n",
    "plt.grid();"
   ]
  },
  {
   "cell_type": "markdown",
   "metadata": {},
   "source": [
    "# Reading and plotting images"
   ]
  },
  {
   "cell_type": "markdown",
   "metadata": {},
   "source": [
    "Let's add a simple (inaccurate) map of Vienna (adapted version from [this one](https://commons.wikimedia.org/wiki/Category:Maps_of_Vienna#/media/File:Gemeindebezirke_Wiens.svg), license: public domain). See also [interactive map of public toilets](https://m.wien.gv.at/stadtplan/#base=karte&zoom=12&lat=48.2023&lon=16.4142&layer=wc)."
   ]
  },
  {
   "cell_type": "code",
   "execution_count": null,
   "metadata": {},
   "outputs": [],
   "source": [
    "vienna = plt.imread('vienna-map.png')"
   ]
  },
  {
   "cell_type": "code",
   "execution_count": null,
   "metadata": {},
   "outputs": [],
   "source": [
    "vienna.shape"
   ]
  },
  {
   "cell_type": "markdown",
   "metadata": {},
   "source": [
    "The third dimension here is the color space. If you have never seen RGB values before, you can [google for \"color picker\"](https://www.google.com/search?q=color+picker) to see a demonstration."
   ]
  },
  {
   "cell_type": "code",
   "execution_count": null,
   "metadata": {},
   "outputs": [],
   "source": [
    "# distance from Stephansplatz to borders of the PNG file in km\n",
    "left = -13.682179147809752\n",
    "right = 16.639373238835283\n",
    "bottom = -9.81358722568525\n",
    "top = 12.989326274442831\n",
    "extent = left, right, bottom, top"
   ]
  },
  {
   "cell_type": "code",
   "execution_count": null,
   "metadata": {},
   "outputs": [],
   "source": [
    "plt.plot(public_toilets_km.T[0], public_toilets_km.T[1], 'ko', markersize=3, label='Public toilet')\n",
    "plt.plot([0], [0], 'P', label='Stephansplatz', color='chocolate')\n",
    "plt.gca().set_aspect('equal')\n",
    "plt.legend()\n",
    "plt.title('Map of public toilets in Vienna')\n",
    "plt.xlabel('Longitude [km]')\n",
    "plt.ylabel('Latitude[km]')\n",
    "plt.grid()\n",
    "\n",
    "plt.imshow(vienna, extent=extent)"
   ]
  },
  {
   "cell_type": "markdown",
   "metadata": {},
   "source": [
    "There are [better ways to plot geographic maps](https://matplotlib.org/basemap/users/examples.html). This is just a simple example to play with Numpy."
   ]
  },
  {
   "cell_type": "markdown",
   "metadata": {},
   "source": [
    "# Distances between locations"
   ]
  },
  {
   "cell_type": "code",
   "execution_count": null,
   "metadata": {},
   "outputs": [],
   "source": [
    "def distance(point1, point2):\n",
    "    \"\"\"Calculate eukledian distance between two points. Points are passed\n",
    "    as lists or arrays of length 2. Numpy arrays of many dimensions are \n",
    "    supported: axis=0 must be the dimension for x/y coordinates.\"\"\"\n",
    "    return ((point1[0] - point2[0])**2 + (point1[1] - point2[1])**2)**0.5"
   ]
  },
  {
   "cell_type": "code",
   "execution_count": null,
   "metadata": {},
   "outputs": [],
   "source": [
    "a = [1, 1]\n",
    "b = [0, 0]"
   ]
  },
  {
   "cell_type": "code",
   "execution_count": null,
   "metadata": {},
   "outputs": [],
   "source": [
    "distance(a, b)"
   ]
  },
  {
   "cell_type": "code",
   "execution_count": null,
   "metadata": {},
   "outputs": [],
   "source": [
    "you_are_here =  np.array([16.357709, 48.232303])"
   ]
  },
  {
   "cell_type": "markdown",
   "metadata": {},
   "source": [
    "Unfortunately the array has the wrong shape, the first _axis_ must be the one for x/y coordinates:"
   ]
  },
  {
   "cell_type": "code",
   "execution_count": null,
   "metadata": {},
   "outputs": [],
   "source": [
    "public_toilets_km.shape"
   ]
  },
  {
   "cell_type": "markdown",
   "metadata": {},
   "source": [
    "Transposing the array solves this problem:"
   ]
  },
  {
   "cell_type": "code",
   "execution_count": null,
   "metadata": {},
   "outputs": [],
   "source": [
    "public_toilets_km.T.shape"
   ]
  },
  {
   "cell_type": "markdown",
   "metadata": {},
   "source": [
    "Why is this necessary? We can look up how `distance()` can be used by uncommenting the following lines:"
   ]
  },
  {
   "cell_type": "code",
   "execution_count": null,
   "metadata": {},
   "outputs": [],
   "source": [
    "# distance?"
   ]
  },
  {
   "cell_type": "code",
   "execution_count": null,
   "metadata": {},
   "outputs": [],
   "source": [
    "# distance??"
   ]
  },
  {
   "cell_type": "code",
   "execution_count": null,
   "metadata": {},
   "outputs": [],
   "source": [
    "public_toilets_km[:4]"
   ]
  },
  {
   "cell_type": "code",
   "execution_count": null,
   "metadata": {},
   "outputs": [],
   "source": [
    "public_toilets_km[:4].T"
   ]
  },
  {
   "cell_type": "code",
   "execution_count": null,
   "metadata": {},
   "outputs": [],
   "source": [
    "public_toilets_km[0]"
   ]
  },
  {
   "cell_type": "code",
   "execution_count": null,
   "metadata": {},
   "outputs": [],
   "source": [
    "public_toilets_km.T[0]"
   ]
  },
  {
   "cell_type": "code",
   "execution_count": null,
   "metadata": {},
   "outputs": [],
   "source": [
    "distances_to_me = distance(public_toilets_km.T, to_km(you_are_here))"
   ]
  },
  {
   "cell_type": "code",
   "execution_count": null,
   "metadata": {},
   "outputs": [],
   "source": [
    "distances_to_me[:5]"
   ]
  },
  {
   "cell_type": "markdown",
   "metadata": {},
   "source": [
    "There is a toilet very close, less than 500m!"
   ]
  },
  {
   "cell_type": "code",
   "execution_count": null,
   "metadata": {},
   "outputs": [],
   "source": [
    "distances_to_me.min()"
   ]
  },
  {
   "cell_type": "markdown",
   "metadata": {},
   "source": [
    "Often there is another way to call Numpy functions:"
   ]
  },
  {
   "cell_type": "code",
   "execution_count": null,
   "metadata": {},
   "outputs": [],
   "source": [
    "np.min(distances_to_me)"
   ]
  },
  {
   "cell_type": "markdown",
   "metadata": {},
   "source": [
    "<small>Note: In Numpy, usually there is no difference between these two ways of calling either the function `np.min(distances_to_me)` or the method `distances_to_me.min()`. A convention says methods should be used when the object is modified and the function if a new object is returned. But it this convention is not very widesprad, it is not necessary to stick to it."
   ]
  },
  {
   "cell_type": "markdown",
   "metadata": {},
   "source": [
    "But where is the toilet?"
   ]
  },
  {
   "cell_type": "code",
   "execution_count": null,
   "metadata": {},
   "outputs": [],
   "source": [
    "closest_idx = distances_to_me.argmin()\n",
    "closest_idx"
   ]
  },
  {
   "cell_type": "code",
   "execution_count": null,
   "metadata": {},
   "outputs": [],
   "source": [
    "public_toilets[closest_idx]"
   ]
  },
  {
   "cell_type": "code",
   "execution_count": null,
   "metadata": {},
   "outputs": [],
   "source": [
    "def google_maps_link(location):\n",
    "    \"\"\"Return link to turbine in Google maps.\n",
    "    \n",
    "    See documentation:\n",
    "    https://developers.google.com/maps/documentation/urls/guide\n",
    "    https://stackoverflow.com/questions/47038116/google-maps-url-with-pushpin-and-satellite-basemap\n",
    "\n",
    "    \"\"\"\n",
    "    xlong, ylat = location\n",
    "    \n",
    "    # alternative API which does not allow marker\n",
    "    # f\"https://www.google.com/maps/@?api=1&map_action=map&center={ylat},{xlong}&basemap=satellite\"\n",
    "    \n",
    "    # alternative API which does not allow sattelite\n",
    "    # f\"https://www.google.com/maps/search/?api=1&query={ylat},{xlong}\"\n",
    "    \n",
    "    # zoom level z=xxx seems to be broken somehow (?)\n",
    "    return f\"http://maps.google.com/maps?q=loc:{ylat}+{xlong}&z=13\""
   ]
  },
  {
   "cell_type": "code",
   "execution_count": null,
   "metadata": {},
   "outputs": [],
   "source": [
    "print(google_maps_link(public_toilets[closest_idx]))"
   ]
  },
  {
   "cell_type": "code",
   "execution_count": null,
   "metadata": {},
   "outputs": [],
   "source": [
    "print(google_maps_link(you_are_here))"
   ]
  },
  {
   "cell_type": "code",
   "execution_count": null,
   "metadata": {},
   "outputs": [],
   "source": [
    "def osm_location_link(location, zoom_level):\n",
    "    \"\"\"Return link to location in openstreetmaps.\"\"\"\n",
    "    xlong, ylat = location\n",
    "    return f\"https://www.openstreetmap.org/?mlat={ylat}&mlon={xlong}#map={zoom_level}/{ylat}/{xlong}\""
   ]
  },
  {
   "cell_type": "code",
   "execution_count": null,
   "metadata": {},
   "outputs": [],
   "source": [
    "print(osm_location_link(public_toilets[closest_idx], 15))"
   ]
  },
  {
   "cell_type": "code",
   "execution_count": null,
   "metadata": {},
   "outputs": [],
   "source": [
    "plt.plot(public_toilets_km.T[0], public_toilets_km.T[1], 'ko', markersize=3, label='Public toilet');\n",
    "plt.plot([0], [0], 'P', label='Stephansplatz', color='chocolate')\n",
    "plt.gca().set_aspect('equal')\n",
    "plt.title('Map of public toilets in Vienna')\n",
    "plt.xlabel('Longitude [km]')\n",
    "plt.ylabel('Latitude[km]')\n",
    "plt.grid()\n",
    "\n",
    "plt.imshow(vienna, extent=extent)\n",
    "\n",
    "plt.plot(public_toilets_km.T[0][closest_idx], public_toilets_km.T[1][closest_idx],\n",
    "         'mv', label='Closest toilet')\n",
    "plt.plot(*to_km(you_are_here), '*g', label='You are here')\n",
    "\n",
    "plt.legend();"
   ]
  },
  {
   "cell_type": "markdown",
   "metadata": {},
   "source": [
    "## Exercise 5 - Find the hottest\n",
    "\n",
    "Find the hottest year!\n",
    "\n",
    "<small>Data source: https://www.wien.gv.at/statistik/wetter/</small>"
   ]
  },
  {
   "cell_type": "code",
   "execution_count": null,
   "metadata": {},
   "outputs": [],
   "source": [
    "years = np.array([1961, 1962, 1963, 1964, 1965, 1966, 1967, 1968, 1969, 1970, 1971, 1972, 1973, 1974, 1975,\n",
    "                  1976, 1977, 1978, 1979, 1980, 1981, 1982, 1983, 1984, 1985, 1986, 1987, 1988, 1989, 1990,\n",
    "                  1991, 1992, 1993, 1994, 1995, 1996, 1997, 1998, 1999, 2000, 2001, 2002, 2003, 2004, 2005,\n",
    "                  2006, 2007, 2008, 2009, 2010, 2011, 2012, 2013])\n",
    "\n",
    "mean_temperature_celsius = np.array([10.2, 8.6, 8.7, 9.1, 8.6, 10.1, 10.2, 9.7, 9.2, 9.2, 9.8, 9.3, 9.6,\n",
    "                                     10.2, 10.1, 9.6, 10.1, 9.1, 9.6, 8.7, 10.1, 10.0, 10.8, 9.4, 9.0, 9.6,\n",
    "                                     9.3, 10.4, 10.7, 10.9, 9.7, 11.1, 10.8, 11.8, 10.4, 8.9, 10.0, 10.8,\n",
    "                                     10.7, 11.7, 10.6, 11.3, 11.0, 10.4, 10.2, 10.7, 11.7, 11.4, 11.0, 9.9,\n",
    "                                     11.1, 11.3, 10.9])"
   ]
  },
  {
   "cell_type": "code",
   "execution_count": null,
   "metadata": {},
   "outputs": [],
   "source": []
  },
  {
   "cell_type": "markdown",
   "metadata": {},
   "source": [
    "# How many close toilets are there?"
   ]
  },
  {
   "cell_type": "code",
   "execution_count": null,
   "metadata": {},
   "outputs": [],
   "source": [
    "distances_to_me < 1."
   ]
  },
  {
   "cell_type": "code",
   "execution_count": null,
   "metadata": {},
   "outputs": [],
   "source": [
    "np.sum(distances_to_me < 1.)"
   ]
  },
  {
   "cell_type": "markdown",
   "metadata": {},
   "source": [
    "## Exercise 6 - How many hot years?\n",
    "\n",
    "Count how many hot years there are with more than 11°C in average (use the data from exercise 2)."
   ]
  },
  {
   "cell_type": "code",
   "execution_count": null,
   "metadata": {},
   "outputs": [],
   "source": []
  },
  {
   "cell_type": "markdown",
   "metadata": {},
   "source": [
    "# Indexing arrays in multiple dimensions"
   ]
  },
  {
   "cell_type": "markdown",
   "metadata": {},
   "source": [
    "Until now we used indexing only this way:"
   ]
  },
  {
   "cell_type": "code",
   "execution_count": null,
   "metadata": {},
   "outputs": [],
   "source": [
    "public_toilets[0]"
   ]
  },
  {
   "cell_type": "markdown",
   "metadata": {},
   "source": [
    "Numpy supports indexing also in more than one dimension:"
   ]
  },
  {
   "cell_type": "code",
   "execution_count": null,
   "metadata": {},
   "outputs": [],
   "source": [
    "public_toilets[0, 1]"
   ]
  },
  {
   "cell_type": "markdown",
   "metadata": {},
   "source": [
    "The slice operations with `:` work also in multiple dimensions:"
   ]
  },
  {
   "cell_type": "code",
   "execution_count": null,
   "metadata": {},
   "outputs": [],
   "source": [
    "public_toilets[:3, 0:1]"
   ]
  },
  {
   "cell_type": "code",
   "execution_count": null,
   "metadata": {},
   "outputs": [],
   "source": [
    "some_toilets = public_toilets[:4, :]\n",
    "some_toilets"
   ]
  },
  {
   "cell_type": "markdown",
   "metadata": {},
   "source": [
    "Note that passing `:` as second index, is equivalent to omitting the second index for a 2D Numpy array:"
   ]
  },
  {
   "cell_type": "code",
   "execution_count": null,
   "metadata": {},
   "outputs": [],
   "source": [
    "public_toilets[:4]"
   ]
  },
  {
   "cell_type": "markdown",
   "metadata": {},
   "source": [
    "One can also pick more than one element at once by providing a list of indices:"
   ]
  },
  {
   "cell_type": "code",
   "execution_count": null,
   "metadata": {},
   "outputs": [],
   "source": [
    "public_toilets[[0,3,5]]"
   ]
  },
  {
   "cell_type": "markdown",
   "metadata": {},
   "source": [
    "The later is also called [fancy indexing](https://scipy-lectures.org/intro/numpy/array_object.html#fancy-indexing)."
   ]
  },
  {
   "cell_type": "markdown",
   "metadata": {},
   "source": [
    "# Filtering: Fancy indexing using boolean arrays"
   ]
  },
  {
   "cell_type": "markdown",
   "metadata": {},
   "source": [
    "Recall: we calculated the distance from our current position to each toilet and then created a boolean array which is `True` for each toilet closer than 1km:"
   ]
  },
  {
   "cell_type": "code",
   "execution_count": null,
   "metadata": {},
   "outputs": [],
   "source": [
    "distances_to_me"
   ]
  },
  {
   "cell_type": "code",
   "execution_count": null,
   "metadata": {},
   "outputs": [],
   "source": [
    "distances_to_me < 1."
   ]
  },
  {
   "cell_type": "code",
   "execution_count": null,
   "metadata": {},
   "outputs": [],
   "source": [
    "is_close_to_me = distances_to_me < 1."
   ]
  },
  {
   "cell_type": "markdown",
   "metadata": {},
   "source": [
    "This boolean array can be used to select entries of the array:"
   ]
  },
  {
   "cell_type": "code",
   "execution_count": null,
   "metadata": {},
   "outputs": [],
   "source": [
    "close_toilets = public_toilets_km[is_close_to_me]\n",
    "close_toilets"
   ]
  },
  {
   "cell_type": "code",
   "execution_count": null,
   "metadata": {},
   "outputs": [],
   "source": [
    "plt.plot(*public_toilets_km.T, 'ko', markersize=3, label='Public toilet')\n",
    "plt.plot(*close_toilets.T, 'rx', markersize=5, label='Toilet close to me')\n",
    "\n",
    "plt.plot([0], [0], 'P', label='Stephansplatz', color='chocolate')\n",
    "plt.gca().set_aspect('equal')\n",
    "plt.legend()\n",
    "plt.title('Map of public toilets in Vienna')\n",
    "plt.xlabel('Longitude [km]')\n",
    "plt.ylabel('Latitude[km]')\n",
    "plt.grid()\n",
    "\n",
    "plt.imshow(vienna, extent=extent);"
   ]
  },
  {
   "cell_type": "markdown",
   "metadata": {},
   "source": [
    "# Adding a new axis"
   ]
  },
  {
   "cell_type": "markdown",
   "metadata": {},
   "source": [
    "One can even create new dimensions:"
   ]
  },
  {
   "cell_type": "code",
   "execution_count": null,
   "metadata": {},
   "outputs": [],
   "source": [
    "some_toilets.shape"
   ]
  },
  {
   "cell_type": "code",
   "execution_count": null,
   "metadata": {},
   "outputs": [],
   "source": [
    "some_toilets[:, :, np.newaxis].shape"
   ]
  },
  {
   "cell_type": "code",
   "execution_count": null,
   "metadata": {},
   "outputs": [],
   "source": [
    "some_toilets[:, :, np.newaxis]"
   ]
  },
  {
   "cell_type": "markdown",
   "metadata": {},
   "source": [
    "# More advanced broadcasting"
   ]
  },
  {
   "cell_type": "code",
   "execution_count": null,
   "metadata": {},
   "outputs": [],
   "source": [
    "a = np.arange(5)\n",
    "a"
   ]
  },
  {
   "cell_type": "markdown",
   "metadata": {},
   "source": [
    "We can use `np.ones()` to create a column vector, i.e. an array of shape `(n, 1)`:"
   ]
  },
  {
   "cell_type": "code",
   "execution_count": null,
   "metadata": {},
   "outputs": [],
   "source": [
    "b = np.ones((5, 1)) * 2\n",
    "b"
   ]
  },
  {
   "cell_type": "code",
   "execution_count": null,
   "metadata": {},
   "outputs": [],
   "source": [
    "b.shape"
   ]
  },
  {
   "cell_type": "code",
   "execution_count": null,
   "metadata": {},
   "outputs": [],
   "source": [
    "a * b"
   ]
  },
  {
   "cell_type": "markdown",
   "metadata": {},
   "source": [
    "# Fancy indexing with toilets \n",
    "\n",
    "Let's create a discrete grid covering Vienna. We will use a cartesian coordinate system in kilometers with origin at the Stephansplatz:"
   ]
  },
  {
   "cell_type": "code",
   "execution_count": null,
   "metadata": {},
   "outputs": [],
   "source": [
    "x = np.linspace(left, right, num=150)\n",
    "y = np.linspace(bottom, top, num=150)"
   ]
  },
  {
   "cell_type": "code",
   "execution_count": null,
   "metadata": {},
   "outputs": [],
   "source": [
    "x[:5]"
   ]
  },
  {
   "cell_type": "markdown",
   "metadata": {},
   "source": [
    "`xx` is an 2D array where each element contains the x coordinate of corresponding grid point, `yy` contains the y coordinates:"
   ]
  },
  {
   "cell_type": "code",
   "execution_count": null,
   "metadata": {},
   "outputs": [],
   "source": [
    "xx, yy = np.meshgrid(x, y)"
   ]
  },
  {
   "cell_type": "code",
   "execution_count": null,
   "metadata": {},
   "outputs": [],
   "source": [
    "xx.shape"
   ]
  },
  {
   "cell_type": "code",
   "execution_count": null,
   "metadata": {},
   "outputs": [],
   "source": [
    "yy.shape"
   ]
  },
  {
   "cell_type": "markdown",
   "metadata": {},
   "source": [
    "Note that all values in each column are the same, because the x coordinate does not change in that direction:"
   ]
  },
  {
   "cell_type": "code",
   "execution_count": null,
   "metadata": {},
   "outputs": [],
   "source": [
    "xx[:3, :3]"
   ]
  },
  {
   "cell_type": "markdown",
   "metadata": {},
   "source": [
    "To allow broadcasting between `public_toilets_km` and `xx` and `yy` new dimensions of size 1 are needed:"
   ]
  },
  {
   "cell_type": "code",
   "execution_count": null,
   "metadata": {},
   "outputs": [],
   "source": [
    "public_toilets_km.shape"
   ]
  },
  {
   "cell_type": "code",
   "execution_count": null,
   "metadata": {},
   "outputs": [],
   "source": [
    "public_toilets_km_grid = public_toilets_km.T[:, :, np.newaxis, np.newaxis]\n",
    "public_toilets_km_grid.shape"
   ]
  },
  {
   "cell_type": "code",
   "execution_count": null,
   "metadata": {},
   "outputs": [],
   "source": [
    "grid = np.array([xx, yy])[:, np.newaxis, :, :]\n",
    "grid.shape"
   ]
  },
  {
   "cell_type": "markdown",
   "metadata": {},
   "source": [
    "For each grid pixel there is a distance calculation to each toilet:"
   ]
  },
  {
   "cell_type": "code",
   "execution_count": null,
   "metadata": {},
   "outputs": [],
   "source": [
    "distances = distance(grid, public_toilets_km_grid)\n",
    "distances.shape"
   ]
  },
  {
   "cell_type": "markdown",
   "metadata": {},
   "source": [
    "Let's find the closest toilet for each grid pixel!"
   ]
  },
  {
   "cell_type": "code",
   "execution_count": null,
   "metadata": {},
   "outputs": [],
   "source": [
    "min_distance = distances.min(axis=0)"
   ]
  },
  {
   "cell_type": "code",
   "execution_count": null,
   "metadata": {},
   "outputs": [],
   "source": [
    "min_distance.shape"
   ]
  },
  {
   "cell_type": "code",
   "execution_count": null,
   "metadata": {},
   "outputs": [],
   "source": [
    "plt.plot(public_toilets_km.T[0], public_toilets_km.T[1], 'ko', markersize=3, label='Public toilet')\n",
    "plt.plot([0], [0], 'P', label='Stephansplatz', color='chocolate')\n",
    "plt.gca().set_aspect('equal')\n",
    "plt.legend()\n",
    "plt.title('Map of public toilets in Vienna')\n",
    "plt.xlabel('Longitude [km]')\n",
    "plt.ylabel('Latitude[km]')\n",
    "plt.grid()\n",
    "\n",
    "plt.imshow(min_distance, extent=extent, origin='lower',\n",
    "           cmap='viridis_r',\n",
    "           norm=matplotlib.colors.PowerNorm(0.35)\n",
    ")\n",
    "plt.colorbar()\n",
    "plt.imshow(vienna, extent=extent);"
   ]
  },
  {
   "cell_type": "markdown",
   "metadata": {},
   "source": [
    "## Exercise 7 - Plot a two dimensional Gaussian\n",
    "\n",
    "Plot the [two dimensional Gaussian function](https://en.wikipedia.org/wiki/Gaussian_function#Two-dimensional_Gaussian_function):\n",
    "$$\n",
    "    g(x,y) = \\exp\\left(- \\left(\\frac{x^2}{2\\sigma_X^2} + \\frac{y^2}{2\\sigma_Y^2} \\right)\\right)\n",
    "$$\n",
    "\n",
    "Plot the function in the range $x=-10,\\ldots,10$ and $y=-10,\\ldots,10$ and use $\\sigma_X=10$ and $\\sigma_Y=7$.\n",
    "\n",
    "**Note:** use `x_` and `y_` as variable names to avoid name collisions in the calculations below."
   ]
  },
  {
   "cell_type": "code",
   "execution_count": null,
   "metadata": {},
   "outputs": [],
   "source": []
  },
  {
   "cell_type": "markdown",
   "metadata": {},
   "source": [
    "## Exercise 8 - Find optimum in plot\n",
    "\n",
    "Alice wants to produce toilet paper. She can choose production costs per pallet freely between 5 and 40 EUR and the price between 15 and 70 EUR. Higher costs will lead to more products sold (due to higher quality), a higher price will lead to less products sold.\n",
    "\n",
    "Assume the number of sold items is given by:\n",
    "$$\n",
    "    n = 1e5 \\cdot \\frac{\\log(\\textrm{costs})}{\\textrm{price}^{0.6}}\n",
    "$$\n",
    "\n",
    "The profit is given by:\n",
    "\n",
    "$$\n",
    "    \\textrm{profit} = n \\cdot (\\textrm{price} - \\textrm{costs})\n",
    "$$\n",
    "\n",
    "Set discrete values for `costs` and `price` using `np.linspace()`. Then convert costs to a column vector using \n",
    "\n",
    "```costs = costs[:, np.newaxis]```\n",
    "    \n",
    "(check the shape before and after!). Then calculate the profit.\n",
    "\n",
    "Plot the profit using `plt.imshow()` and analyze the parameters for the maximum profit!\n",
    "\n",
    "Use following additional parameters for `plt.imshow()`:\n",
    "\n",
    "`\n",
    "extent=[price.min(), price.max(),\n",
    "       costs.min(), costs.max()],\n",
    "origin='lower'\n",
    "`\n",
    "\n",
    "Use the command `plt.colorbar()` to add a color legend."
   ]
  },
  {
   "cell_type": "code",
   "execution_count": null,
   "metadata": {},
   "outputs": [],
   "source": []
  },
  {
   "cell_type": "markdown",
   "metadata": {},
   "source": [
    "# Worst spot for urgent needs"
   ]
  },
  {
   "cell_type": "markdown",
   "metadata": {},
   "source": [
    "Which are the worst spots for urgent needs, where you should avoid drinking beer outside?\n",
    "\n",
    "<small>(At the moment, drinking beer outside is still better than inside with someone you are not living together anyway!)</small>"
   ]
  },
  {
   "cell_type": "code",
   "execution_count": null,
   "metadata": {},
   "outputs": [],
   "source": [
    "from scipy.ndimage import maximum_filter"
   ]
  },
  {
   "cell_type": "markdown",
   "metadata": {},
   "source": [
    "A maximum filter sets each element to the maximum value of its surroundings:"
   ]
  },
  {
   "cell_type": "code",
   "execution_count": null,
   "metadata": {},
   "outputs": [],
   "source": [
    "maximum_filter([1, 1, 1, 5, 1, 1, 1], size=3)"
   ]
  },
  {
   "cell_type": "markdown",
   "metadata": {},
   "source": [
    "This is a very neat trick to find local maxima in a discrete data set:"
   ]
  },
  {
   "cell_type": "code",
   "execution_count": null,
   "metadata": {},
   "outputs": [],
   "source": [
    "is_peak = maximum_filter(min_distance, 10) == min_distance"
   ]
  },
  {
   "cell_type": "markdown",
   "metadata": {},
   "source": [
    "`is_peak` is True, if all the element is at least as large as all others in the surrounding. Such a point is a local maximum."
   ]
  },
  {
   "cell_type": "code",
   "execution_count": null,
   "metadata": {},
   "outputs": [],
   "source": [
    "plt.plot(public_toilets_km.T[0], public_toilets_km.T[1], 'ko', markersize=3, label='Public toilet');\n",
    "plt.plot([0], [0], 'P', label='Stephansplatz', color='chocolate')\n",
    "plt.gca().set_aspect('equal')\n",
    "\n",
    "plt.plot(xx[is_peak], yy[is_peak], 'rx', label='Bad spot for urgent needs')\n",
    "\n",
    "plt.legend();\n",
    "plt.title('Map of public toilets in Vienna')\n",
    "plt.xlabel('Longitude [km]')\n",
    "plt.ylabel('Latitude[km]')\n",
    "plt.grid();\n",
    "\n",
    "plt.imshow(min_distance, extent=extent, origin='lower',\n",
    "           cmap='viridis_r',\n",
    "           norm=matplotlib.colors.PowerNorm(0.35)\n",
    ");\n",
    "\n",
    "plt.imshow(vienna, extent=extent);"
   ]
  },
  {
   "cell_type": "markdown",
   "metadata": {},
   "source": [
    "# Reshaping arrays\n",
    "\n",
    "We got a discrete grid of points covering Vienna, each contains the distance to the closest toilet:"
   ]
  },
  {
   "cell_type": "code",
   "execution_count": null,
   "metadata": {},
   "outputs": [],
   "source": [
    "min_distance.shape"
   ]
  },
  {
   "cell_type": "code",
   "execution_count": null,
   "metadata": {},
   "outputs": [],
   "source": [
    "min_distance.flatten()"
   ]
  },
  {
   "cell_type": "code",
   "execution_count": null,
   "metadata": {},
   "outputs": [],
   "source": [
    "min_distance.flatten().shape"
   ]
  },
  {
   "cell_type": "markdown",
   "metadata": {},
   "source": [
    "# Histogram\n",
    "\n",
    "How likely is it to be close to a public toilet?"
   ]
  },
  {
   "cell_type": "code",
   "execution_count": null,
   "metadata": {},
   "outputs": [],
   "source": [
    "plt.hist(min_distance.flatten(), bins=100, density=True);\n",
    "plt.xlabel('Distance to the next toilet [km]')\n",
    "plt.ylabel('Probability');"
   ]
  },
  {
   "cell_type": "markdown",
   "metadata": {},
   "source": [
    "But this uses all pixels in the grid... Wouldn't it be more interesting to look only at the center?"
   ]
  },
  {
   "cell_type": "markdown",
   "metadata": {},
   "source": [
    "Let's filter the grid for all points closer to the center than 8km:"
   ]
  },
  {
   "cell_type": "code",
   "execution_count": null,
   "metadata": {},
   "outputs": [],
   "source": [
    "grid[:, 0].shape"
   ]
  },
  {
   "cell_type": "markdown",
   "metadata": {},
   "source": [
    "Remember that the center is at `[0, 0]`:"
   ]
  },
  {
   "cell_type": "code",
   "execution_count": null,
   "metadata": {},
   "outputs": [],
   "source": [
    "is_central = distance(grid[:, 0], np.zeros((2, 1, 1))) < 8"
   ]
  },
  {
   "cell_type": "code",
   "execution_count": null,
   "metadata": {},
   "outputs": [],
   "source": [
    "plt.plot(public_toilets_km.T[0], public_toilets_km.T[1], 'ko', markersize=3, label='Public toilet');\n",
    "plt.plot([0], [0], 'P', label='Stephansplatz', color='chocolate')\n",
    "plt.gca().set_aspect('equal')\n",
    "\n",
    "plt.legend();\n",
    "plt.title('Map of public toilets in Vienna')\n",
    "plt.xlabel('Longitude [km]')\n",
    "plt.ylabel('Latitude[km]')\n",
    "plt.grid();\n",
    "\n",
    "plt.imshow(min_distance, extent=extent, origin='lower',\n",
    "           cmap='viridis_r',\n",
    "           norm=matplotlib.colors.PowerNorm(0.35)\n",
    ");\n",
    "\n",
    "plt.colorbar();\n",
    "\n",
    "plt.imshow(is_central,\n",
    "           extent=extent,\n",
    "           origin='lower',\n",
    "           cmap='gray',\n",
    "           alpha=0.2)\n",
    "\n",
    "plt.imshow(vienna, extent=extent);"
   ]
  },
  {
   "cell_type": "code",
   "execution_count": null,
   "metadata": {},
   "outputs": [],
   "source": [
    "plt.hist(min_distance[is_central], bins=100, density=True);\n",
    "plt.xlabel('Distance to the next toilet [km]')\n",
    "plt.ylabel('Probability');"
   ]
  },
  {
   "cell_type": "markdown",
   "metadata": {},
   "source": [
    "Note that the result is always flat when using a boolean array as index!"
   ]
  },
  {
   "cell_type": "markdown",
   "metadata": {},
   "source": [
    "# Interpolation\n",
    "\n",
    "Let's assume we got `min_distance` as dataset from somewhere else and we cannot compute the distance by calling `distance()`. How could we get a good value?"
   ]
  },
  {
   "cell_type": "code",
   "execution_count": null,
   "metadata": {},
   "outputs": [],
   "source": [
    "you_are_here_km = to_km(you_are_here)"
   ]
  },
  {
   "cell_type": "markdown",
   "metadata": {},
   "source": [
    "Unfortunately the point does not lie on the grid:"
   ]
  },
  {
   "cell_type": "code",
   "execution_count": null,
   "metadata": {},
   "outputs": [],
   "source": [
    "you_are_here_km[0] in x"
   ]
  },
  {
   "cell_type": "code",
   "execution_count": null,
   "metadata": {},
   "outputs": [],
   "source": [
    "from scipy.interpolate import interp2d"
   ]
  },
  {
   "cell_type": "code",
   "execution_count": null,
   "metadata": {},
   "outputs": [],
   "source": [
    "distance_interpolated = interp2d(x, y, min_distance)"
   ]
  },
  {
   "cell_type": "code",
   "execution_count": null,
   "metadata": {},
   "outputs": [],
   "source": [
    "distance_interpolated(you_are_here_km[0], you_are_here_km[1])"
   ]
  },
  {
   "cell_type": "code",
   "execution_count": null,
   "metadata": {},
   "outputs": [],
   "source": [
    "distance(you_are_here_km, public_toilets_km.T).min()"
   ]
  }
 ],
 "metadata": {
  "kernelspec": {
   "display_name": "Python 3",
   "language": "python",
   "name": "python3"
  },
  "language_info": {
   "codemirror_mode": {
    "name": "ipython",
    "version": 3
   },
   "file_extension": ".py",
   "mimetype": "text/x-python",
   "name": "python",
   "nbconvert_exporter": "python",
   "pygments_lexer": "ipython3",
   "version": "3.8.5"
  }
 },
 "nbformat": 4,
 "nbformat_minor": 1
}
